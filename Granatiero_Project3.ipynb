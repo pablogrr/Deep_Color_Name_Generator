{
 "cells": [
  {
   "cell_type": "markdown",
   "metadata": {
    "id": "OCxmtRVbJbSx"
   },
   "source": [
    "# Assignment 3: Colors and Word Models.\n",
    "\n",
    "The following cells describe how to build a neural network that generates color names from RGB values.\n",
    "\n",
    "We can give the neural network a list of paint colors (14157) along with their RGB values. (RGB = red, green, and blue color values).\n",
    "\n",
    "Could the neural network learn to invent new paint colors and give them \"meaningful\" names?"
   ]
  },
  {
   "cell_type": "code",
   "execution_count": 168,
   "metadata": {
    "colab": {
     "base_uri": "https://localhost:8080/"
    },
    "id": "fbIn4eB8nH3N",
    "outputId": "cac9036e-23e1-4212-95be-05fad713b1f0"
   },
   "outputs": [
    {
     "name": "stdout",
     "output_type": "stream",
     "text": [
      "2.3.1\n"
     ]
    }
   ],
   "source": [
    "import tensorflow as tf\n",
    "from tensorflow.python import keras\n",
    "from tensorflow.python.keras import preprocessing\n",
    "from tensorflow.python.keras.preprocessing.text import Tokenizer\n",
    "from tensorflow.python.keras.models import Sequential\n",
    "from tensorflow.python.keras.layers import Dense, Dropout, LSTM, Reshape\n",
    "from keras.models import load_model\n",
    "from keras.callbacks import ModelCheckpoint, EarlyStopping\n",
    "\n",
    "\n",
    "import numpy as np\n",
    "import pandas as pd\n",
    "\n",
    "np.random.seed(10)\n",
    "print (tf.__version__)"
   ]
  },
  {
   "cell_type": "code",
   "execution_count": 169,
   "metadata": {
    "colab": {
     "base_uri": "https://localhost:8080/",
     "height": 639
    },
    "id": "hhUH5hkTn1Ll",
    "outputId": "075b0667-26e7-451a-f68c-fcaf1cbdb1d7"
   },
   "outputs": [
    {
     "data": {
      "text/html": [
       "<div>\n",
       "<style scoped>\n",
       "    .dataframe tbody tr th:only-of-type {\n",
       "        vertical-align: middle;\n",
       "    }\n",
       "\n",
       "    .dataframe tbody tr th {\n",
       "        vertical-align: top;\n",
       "    }\n",
       "\n",
       "    .dataframe thead th {\n",
       "        text-align: right;\n",
       "    }\n",
       "</style>\n",
       "<table border=\"1\" class=\"dataframe\">\n",
       "  <thead>\n",
       "    <tr style=\"text-align: right;\">\n",
       "      <th></th>\n",
       "      <th>name</th>\n",
       "      <th>red</th>\n",
       "      <th>green</th>\n",
       "      <th>blue</th>\n",
       "    </tr>\n",
       "  </thead>\n",
       "  <tbody>\n",
       "    <tr>\n",
       "      <th>0</th>\n",
       "      <td>parakeet</td>\n",
       "      <td>174</td>\n",
       "      <td>182</td>\n",
       "      <td>87</td>\n",
       "    </tr>\n",
       "    <tr>\n",
       "      <th>1</th>\n",
       "      <td>saddle brown</td>\n",
       "      <td>88</td>\n",
       "      <td>52</td>\n",
       "      <td>1</td>\n",
       "    </tr>\n",
       "    <tr>\n",
       "      <th>2</th>\n",
       "      <td>cucumber crush</td>\n",
       "      <td>222</td>\n",
       "      <td>237</td>\n",
       "      <td>215</td>\n",
       "    </tr>\n",
       "    <tr>\n",
       "      <th>3</th>\n",
       "      <td>pool blue</td>\n",
       "      <td>134</td>\n",
       "      <td>194</td>\n",
       "      <td>201</td>\n",
       "    </tr>\n",
       "    <tr>\n",
       "      <th>4</th>\n",
       "      <td>distance</td>\n",
       "      <td>98</td>\n",
       "      <td>110</td>\n",
       "      <td>130</td>\n",
       "    </tr>\n",
       "    <tr>\n",
       "      <th>5</th>\n",
       "      <td>light urple</td>\n",
       "      <td>179</td>\n",
       "      <td>111</td>\n",
       "      <td>246</td>\n",
       "    </tr>\n",
       "    <tr>\n",
       "      <th>6</th>\n",
       "      <td>east side</td>\n",
       "      <td>172</td>\n",
       "      <td>145</td>\n",
       "      <td>206</td>\n",
       "    </tr>\n",
       "    <tr>\n",
       "      <th>7</th>\n",
       "      <td>florida seashells</td>\n",
       "      <td>250</td>\n",
       "      <td>228</td>\n",
       "      <td>199</td>\n",
       "    </tr>\n",
       "    <tr>\n",
       "      <th>8</th>\n",
       "      <td>paris</td>\n",
       "      <td>145</td>\n",
       "      <td>167</td>\n",
       "      <td>189</td>\n",
       "    </tr>\n",
       "    <tr>\n",
       "      <th>9</th>\n",
       "      <td>powder blush</td>\n",
       "      <td>247</td>\n",
       "      <td>215</td>\n",
       "      <td>215</td>\n",
       "    </tr>\n",
       "    <tr>\n",
       "      <th>10</th>\n",
       "      <td>middle blue</td>\n",
       "      <td>126</td>\n",
       "      <td>212</td>\n",
       "      <td>230</td>\n",
       "    </tr>\n",
       "    <tr>\n",
       "      <th>11</th>\n",
       "      <td>turtle green</td>\n",
       "      <td>165</td>\n",
       "      <td>171</td>\n",
       "      <td>139</td>\n",
       "    </tr>\n",
       "    <tr>\n",
       "      <th>12</th>\n",
       "      <td>relaxing blue</td>\n",
       "      <td>137</td>\n",
       "      <td>156</td>\n",
       "      <td>171</td>\n",
       "    </tr>\n",
       "    <tr>\n",
       "      <th>13</th>\n",
       "      <td>wasabi powder</td>\n",
       "      <td>189</td>\n",
       "      <td>179</td>\n",
       "      <td>144</td>\n",
       "    </tr>\n",
       "    <tr>\n",
       "      <th>14</th>\n",
       "      <td>rosemary sprig</td>\n",
       "      <td>97</td>\n",
       "      <td>104</td>\n",
       "      <td>81</td>\n",
       "    </tr>\n",
       "    <tr>\n",
       "      <th>15</th>\n",
       "      <td>light mauve</td>\n",
       "      <td>194</td>\n",
       "      <td>146</td>\n",
       "      <td>161</td>\n",
       "    </tr>\n",
       "    <tr>\n",
       "      <th>16</th>\n",
       "      <td>airbrushed copper</td>\n",
       "      <td>170</td>\n",
       "      <td>108</td>\n",
       "      <td>82</td>\n",
       "    </tr>\n",
       "    <tr>\n",
       "      <th>17</th>\n",
       "      <td>snow flurry</td>\n",
       "      <td>228</td>\n",
       "      <td>255</td>\n",
       "      <td>209</td>\n",
       "    </tr>\n",
       "    <tr>\n",
       "      <th>18</th>\n",
       "      <td>aurora brown</td>\n",
       "      <td>108</td>\n",
       "      <td>69</td>\n",
       "      <td>57</td>\n",
       "    </tr>\n",
       "    <tr>\n",
       "      <th>19</th>\n",
       "      <td>gold buff</td>\n",
       "      <td>235</td>\n",
       "      <td>188</td>\n",
       "      <td>126</td>\n",
       "    </tr>\n",
       "  </tbody>\n",
       "</table>\n",
       "</div>"
      ],
      "text/plain": [
       "                 name  red  green  blue\n",
       "0            parakeet  174    182    87\n",
       "1        saddle brown   88     52     1\n",
       "2      cucumber crush  222    237   215\n",
       "3           pool blue  134    194   201\n",
       "4            distance   98    110   130\n",
       "5         light urple  179    111   246\n",
       "6           east side  172    145   206\n",
       "7   florida seashells  250    228   199\n",
       "8               paris  145    167   189\n",
       "9        powder blush  247    215   215\n",
       "10        middle blue  126    212   230\n",
       "11       turtle green  165    171   139\n",
       "12      relaxing blue  137    156   171\n",
       "13      wasabi powder  189    179   144\n",
       "14     rosemary sprig   97    104    81\n",
       "15        light mauve  194    146   161\n",
       "16  airbrushed copper  170    108    82\n",
       "17        snow flurry  228    255   209\n",
       "18       aurora brown  108     69    57\n",
       "19          gold buff  235    188   126"
      ]
     },
     "execution_count": 169,
     "metadata": {},
     "output_type": "execute_result"
    }
   ],
   "source": [
    "import io\n",
    "import requests\n",
    "url=\"https://raw.githubusercontent.com/Tony607/Keras-Colors/master/colors.csv\"\n",
    "s=requests.get(url).content\n",
    "data=pd.read_csv(io.StringIO(s.decode('utf-8')))\n",
    "data.head(20)"
   ]
  },
  {
   "cell_type": "code",
   "execution_count": 170,
   "metadata": {
    "colab": {
     "base_uri": "https://localhost:8080/"
    },
    "id": "jQp7dODTnH3O",
    "outputId": "b45259ea-b075-4e6d-d67d-455a73690eb3"
   },
   "outputs": [
    {
     "data": {
      "text/plain": [
       "14157"
      ]
     },
     "execution_count": 170,
     "metadata": {},
     "output_type": "execute_result"
    }
   ],
   "source": [
    "len(data)"
   ]
  },
  {
   "cell_type": "code",
   "execution_count": 171,
   "metadata": {
    "id": "dC-9YXLDnH3O"
   },
   "outputs": [],
   "source": [
    "names = data[\"name\"]"
   ]
  },
  {
   "cell_type": "markdown",
   "metadata": {
    "id": "-n5FnYkjnH3O"
   },
   "source": [
    "## Tokenize, char level\n",
    "\n",
    "We will consider that every color name is a sequences of characters (max=25)."
   ]
  },
  {
   "cell_type": "code",
   "execution_count": 172,
   "metadata": {
    "id": "UuzHeDAVnH3O"
   },
   "outputs": [],
   "source": [
    "maxlen = 25\n",
    "t = Tokenizer(char_level=True)\n",
    "t.fit_on_texts(names)\n",
    "tokenized = t.texts_to_sequences(names)\n",
    "padded_names = preprocessing.sequence.pad_sequences(tokenized, maxlen=maxlen)"
   ]
  },
  {
   "cell_type": "code",
   "execution_count": 173,
   "metadata": {},
   "outputs": [
    {
     "data": {
      "text/plain": [
       "array([ 0,  0,  0,  0,  0,  0,  0,  0,  0,  0,  0,  0,  0,  0,  0,  0,  0,\n",
       "       15,  2,  3,  2, 21,  1,  1,  9], dtype=int32)"
      ]
     },
     "execution_count": 173,
     "metadata": {},
     "output_type": "execute_result"
    }
   ],
   "source": [
    "padded_names[0]"
   ]
  },
  {
   "cell_type": "markdown",
   "metadata": {
    "id": "nLS6Ds1KnH3O"
   },
   "source": [
    "## One-hot encoding\n",
    "\n",
    "We use a one-hot estrategy to encode characters."
   ]
  },
  {
   "cell_type": "code",
   "execution_count": 174,
   "metadata": {
    "colab": {
     "base_uri": "https://localhost:8080/"
    },
    "id": "v7LYr7IunH3O",
    "outputId": "eb1d3ba4-a62e-4d8d-dfac-2289e4847b34"
   },
   "outputs": [
    {
     "data": {
      "text/plain": [
       "28"
      ]
     },
     "execution_count": 174,
     "metadata": {},
     "output_type": "execute_result"
    }
   ],
   "source": [
    "from keras.utils import np_utils\n",
    "one_hot_names = np_utils.to_categorical(padded_names)\n",
    "num_classes = one_hot_names.shape[-1]\n",
    "num_classes"
   ]
  },
  {
   "cell_type": "code",
   "execution_count": 175,
   "metadata": {
    "colab": {
     "base_uri": "https://localhost:8080/"
    },
    "id": "69SU_bZ1nH3O",
    "outputId": "5a5c3030-f1d2-4e17-9568-18f250531f4c"
   },
   "outputs": [
    {
     "data": {
      "text/plain": [
       "(14157, 25, 28)"
      ]
     },
     "execution_count": 175,
     "metadata": {},
     "output_type": "execute_result"
    }
   ],
   "source": [
    "one_hot_names.shape"
   ]
  },
  {
   "cell_type": "code",
   "execution_count": 176,
   "metadata": {
    "colab": {
     "base_uri": "https://localhost:8080/"
    },
    "id": "Odqp4UcrnH3O",
    "outputId": "39b8ed5b-98a9-4f6c-88fb-0f24d0bdc073"
   },
   "outputs": [
    {
     "data": {
      "text/plain": [
       "{'e': 1,\n",
       " 'a': 2,\n",
       " 'r': 3,\n",
       " ' ': 4,\n",
       " 'i': 5,\n",
       " 'n': 6,\n",
       " 'l': 7,\n",
       " 'o': 8,\n",
       " 't': 9,\n",
       " 's': 10,\n",
       " 'c': 11,\n",
       " 'u': 12,\n",
       " 'd': 13,\n",
       " 'g': 14,\n",
       " 'p': 15,\n",
       " 'h': 16,\n",
       " 'm': 17,\n",
       " 'b': 18,\n",
       " 'y': 19,\n",
       " 'w': 20,\n",
       " 'k': 21,\n",
       " 'f': 22,\n",
       " 'v': 23,\n",
       " 'z': 24,\n",
       " 'q': 25,\n",
       " 'j': 26,\n",
       " 'x': 27}"
      ]
     },
     "execution_count": 176,
     "metadata": {},
     "output_type": "execute_result"
    }
   ],
   "source": [
    "t.word_index"
   ]
  },
  {
   "cell_type": "code",
   "execution_count": 177,
   "metadata": {
    "id": "MjKIzWa2nH3O"
   },
   "outputs": [],
   "source": [
    "# The RGB values are between 0 - 255\n",
    "# scale them to be between 0 - 1\n",
    "def norm(value):\n",
    "    return value / 255.0\n",
    "\n",
    "normalized_values = np.column_stack([norm(data[\"red\"]), norm(data[\"green\"]), norm(data[\"blue\"])])\n"
   ]
  },
  {
   "cell_type": "markdown",
   "metadata": {
    "id": "IpiYcWsMMwiI"
   },
   "source": [
    "Now we build a LSTM model that reads sequences of characters and produces a scaled-RGB triplet as output. This is a many-to-one sequential model. "
   ]
  },
  {
   "cell_type": "code",
   "execution_count": 178,
   "metadata": {
    "colab": {
     "base_uri": "https://localhost:8080/"
    },
    "id": "Epm7lWg9nH3O",
    "outputId": "78b2e329-4dc1-4a1b-e1cb-abb188c3d88a"
   },
   "outputs": [
    {
     "name": "stdout",
     "output_type": "stream",
     "text": [
      "Model: \"sequential_1\"\n",
      "_________________________________________________________________\n",
      "Layer (type)                 Output Shape              Param #   \n",
      "=================================================================\n",
      "lstm_2 (LSTM)                (None, 25, 256)           291840    \n",
      "_________________________________________________________________\n",
      "lstm_3 (LSTM)                (None, 128)               197120    \n",
      "_________________________________________________________________\n",
      "dense_2 (Dense)              (None, 128)               16512     \n",
      "_________________________________________________________________\n",
      "dense_3 (Dense)              (None, 3)                 387       \n",
      "=================================================================\n",
      "Total params: 505,859\n",
      "Trainable params: 505,859\n",
      "Non-trainable params: 0\n",
      "_________________________________________________________________\n"
     ]
    }
   ],
   "source": [
    "def LSTM_model(maxlen, num_classes):    \n",
    "    model = Sequential()\n",
    "    model.add(LSTM(256, return_sequences=True, input_shape=(maxlen, num_classes)))\n",
    "    model.add(LSTM(128))\n",
    "    model.add(Dense(128, activation='relu'))\n",
    "    model.add(Dense(3, activation='sigmoid'))\n",
    "    model.compile(optimizer='adam', loss='mse', metrics=['acc'])\n",
    "    return model\n",
    "\n",
    "model = LSTM_model(25, 28)\n",
    "model.summary()"
   ]
  },
  {
   "cell_type": "markdown",
   "metadata": {
    "id": "oPCf-Xv4NMRx"
   },
   "source": [
    "We train the model with our dataset."
   ]
  },
  {
   "cell_type": "code",
   "execution_count": null,
   "metadata": {
    "colab": {
     "base_uri": "https://localhost:8080/"
    },
    "id": "MnF6Qx2GnH3O",
    "outputId": "d482a552-5be4-4e22-fda3-7e8fb19f903c",
    "scrolled": true
   },
   "outputs": [
    {
     "name": "stdout",
     "output_type": "stream",
     "text": [
      "Epoch 1/40\n",
      "399/399 [==============================] - 95s 237ms/step - loss: 0.0604 - acc: 0.6248 - val_loss: 0.0604 - val_acc: 0.6645\n",
      "Epoch 2/40\n",
      "399/399 [==============================] - 98s 246ms/step - loss: 0.0556 - acc: 0.6648 - val_loss: 0.0560 - val_acc: 0.6589\n",
      "Epoch 3/40\n",
      "399/399 [==============================] - 94s 235ms/step - loss: 0.0530 - acc: 0.6680 - val_loss: 0.0550 - val_acc: 0.6808\n",
      "Epoch 4/40\n",
      "399/399 [==============================] - 94s 235ms/step - loss: 0.0505 - acc: 0.6661 - val_loss: 0.0530 - val_acc: 0.6879\n",
      "Epoch 5/40\n",
      "399/399 [==============================] - 94s 234ms/step - loss: 0.0481 - acc: 0.6698 - val_loss: 0.0505 - val_acc: 0.6850\n",
      "Epoch 6/40\n",
      "399/399 [==============================] - 93s 234ms/step - loss: 0.0462 - acc: 0.6697 - val_loss: 0.0485 - val_acc: 0.6462\n",
      "Epoch 7/40\n",
      "399/399 [==============================] - 95s 238ms/step - loss: 0.0436 - acc: 0.6748 - val_loss: 0.0468 - val_acc: 0.6822\n",
      "Epoch 8/40\n",
      "399/399 [==============================] - 100s 251ms/step - loss: 0.0417 - acc: 0.6811 - val_loss: 0.0475 - val_acc: 0.6787\n",
      "Epoch 9/40\n",
      "399/399 [==============================] - 95s 238ms/step - loss: 0.0394 - acc: 0.6911 - val_loss: 0.0459 - val_acc: 0.6871\n",
      "Epoch 10/40\n",
      "399/399 [==============================] - 95s 239ms/step - loss: 0.0373 - acc: 0.6993 - val_loss: 0.0460 - val_acc: 0.6829\n",
      "Epoch 11/40\n",
      "399/399 [==============================] - 95s 239ms/step - loss: 0.0350 - acc: 0.7011 - val_loss: 0.0449 - val_acc: 0.6667\n",
      "Epoch 12/40\n",
      "399/399 [==============================] - 95s 237ms/step - loss: 0.0328 - acc: 0.7076 - val_loss: 0.0442 - val_acc: 0.6928\n",
      "Epoch 13/40\n",
      "399/399 [==============================] - 95s 237ms/step - loss: 0.0301 - acc: 0.7126 - val_loss: 0.0446 - val_acc: 0.7013\n",
      "Epoch 14/40\n",
      "399/399 [==============================] - 95s 238ms/step - loss: 0.0278 - acc: 0.7111 - val_loss: 0.0469 - val_acc: 0.6843\n",
      "Epoch 15/40\n",
      "399/399 [==============================] - 99s 248ms/step - loss: 0.0251 - acc: 0.7198 - val_loss: 0.0458 - val_acc: 0.6822\n",
      "Epoch 16/40\n",
      "399/399 [==============================] - 95s 238ms/step - loss: 0.0227 - acc: 0.7237 - val_loss: 0.0464 - val_acc: 0.6850\n",
      "Epoch 17/40\n",
      "399/399 [==============================] - 94s 235ms/step - loss: 0.0203 - acc: 0.7268 - val_loss: 0.0484 - val_acc: 0.6758\n",
      "Epoch 18/40\n",
      "399/399 [==============================] - 94s 237ms/step - loss: 0.0176 - acc: 0.7367 - val_loss: 0.0498 - val_acc: 0.6886\n",
      "Epoch 19/40\n",
      "399/399 [==============================] - 95s 237ms/step - loss: 0.0158 - acc: 0.7439 - val_loss: 0.0498 - val_acc: 0.6893\n",
      "Epoch 20/40\n",
      "399/399 [==============================] - 94s 237ms/step - loss: 0.0144 - acc: 0.7485 - val_loss: 0.0483 - val_acc: 0.7055\n",
      "Epoch 21/40\n",
      "399/399 [==============================] - 95s 238ms/step - loss: 0.0129 - acc: 0.7500 - val_loss: 0.0506 - val_acc: 0.6921\n",
      "Epoch 22/40\n",
      "399/399 [==============================] - 95s 238ms/step - loss: 0.0119 - acc: 0.7582 - val_loss: 0.0502 - val_acc: 0.7034\n",
      "Epoch 23/40\n",
      "399/399 [==============================] - 94s 235ms/step - loss: 0.0108 - acc: 0.7697 - val_loss: 0.0489 - val_acc: 0.7027\n",
      "Epoch 24/40\n",
      "399/399 [==============================] - 94s 235ms/step - loss: 0.0101 - acc: 0.7757 - val_loss: 0.0504 - val_acc: 0.6871\n",
      "Epoch 25/40\n",
      "399/399 [==============================] - 93s 233ms/step - loss: 0.0097 - acc: 0.7798 - val_loss: 0.0498 - val_acc: 0.6921\n",
      "Epoch 26/40\n",
      "399/399 [==============================] - 93s 234ms/step - loss: 0.0091 - acc: 0.7838 - val_loss: 0.0498 - val_acc: 0.6744\n",
      "Epoch 27/40\n",
      "399/399 [==============================] - 94s 235ms/step - loss: 0.0085 - acc: 0.7908 - val_loss: 0.0499 - val_acc: 0.7027\n",
      "Epoch 28/40\n",
      "399/399 [==============================] - 94s 235ms/step - loss: 0.0082 - acc: 0.7992 - val_loss: 0.0499 - val_acc: 0.6893\n",
      "Epoch 29/40\n",
      "399/399 [==============================] - 94s 235ms/step - loss: 0.0079 - acc: 0.8053 - val_loss: 0.0495 - val_acc: 0.6928\n",
      "Epoch 30/40\n",
      "399/399 [==============================] - 94s 235ms/step - loss: 0.0077 - acc: 0.8017 - val_loss: 0.0481 - val_acc: 0.6999\n",
      "Epoch 31/40\n",
      "399/399 [==============================] - 94s 236ms/step - loss: 0.0074 - acc: 0.8069 - val_loss: 0.0496 - val_acc: 0.6695\n",
      "Epoch 32/40\n",
      "399/399 [==============================] - 94s 235ms/step - loss: 0.0072 - acc: 0.8116 - val_loss: 0.0494 - val_acc: 0.7062\n",
      "Epoch 33/40\n",
      "399/399 [==============================] - 95s 238ms/step - loss: 0.0069 - acc: 0.8149 - val_loss: 0.0505 - val_acc: 0.6921\n",
      "Epoch 34/40\n",
      "399/399 [==============================] - 95s 238ms/step - loss: 0.0069 - acc: 0.8200 - val_loss: 0.0493 - val_acc: 0.6992\n",
      "Epoch 35/40\n",
      "399/399 [==============================] - 95s 239ms/step - loss: 0.0066 - acc: 0.8236 - val_loss: 0.0489 - val_acc: 0.6935\n",
      "Epoch 36/40\n",
      "399/399 [==============================] - 95s 237ms/step - loss: 0.0065 - acc: 0.8221 - val_loss: 0.0499 - val_acc: 0.7034\n",
      "Epoch 37/40\n",
      "399/399 [==============================] - 94s 236ms/step - loss: 0.0063 - acc: 0.8222 - val_loss: 0.0505 - val_acc: 0.7006\n",
      "Epoch 38/40\n",
      "399/399 [==============================] - 95s 237ms/step - loss: 0.0062 - acc: 0.8273 - val_loss: 0.0498 - val_acc: 0.7168\n",
      "Epoch 39/40\n",
      "399/399 [==============================] - 95s 238ms/step - loss: 0.0061 - acc: 0.8317 - val_loss: 0.0499 - val_acc: 0.6942\n",
      "Epoch 40/40\n",
      "399/399 [==============================] - 94s 235ms/step - loss: 0.0059 - acc: 0.8341 - val_loss: 0.0507 - val_acc: 0.6942\n"
     ]
    }
   ],
   "source": [
    "history = model.fit(one_hot_names, normalized_values,\n",
    "                    epochs=40,\n",
    "                    batch_size=32,\n",
    "                    validation_split=0.1)"
   ]
  },
  {
   "cell_type": "code",
   "execution_count": 179,
   "metadata": {
    "colab": {
     "base_uri": "https://localhost:8080/",
     "height": 545
    },
    "id": "bc1QS94dnH3O",
    "outputId": "1a5c1089-f294-4429-9ff2-aca025b9ef0c"
   },
   "outputs": [],
   "source": [
    "import matplotlib.pyplot as plt\n",
    "\n",
    "def hist_plot(history):\n",
    "    acc = history.history['acc']\n",
    "    val_acc = history.history['val_acc']\n",
    "    loss = history.history['loss']\n",
    "    val_loss = history.history['val_loss']\n",
    "\n",
    "    epochs = range(len(acc))\n",
    "\n",
    "    plt.plot(epochs, acc, 'bo', label='Training acc')\n",
    "    plt.plot(epochs, val_acc, 'b', label='Validation acc')\n",
    "    plt.title('Training and validation accuracy')\n",
    "    plt.legend()\n",
    "\n",
    "    plt.figure()\n",
    "\n",
    "    plt.plot(epochs, loss, 'bo', label='Training loss')\n",
    "    plt.plot(epochs, val_loss, 'b', label='Validation loss')\n",
    "    plt.title('Training and validation loss')\n",
    "    plt.legend()\n",
    "\n",
    "    plt.show()\n"
   ]
  },
  {
   "cell_type": "markdown",
   "metadata": {
    "id": "8p9vLVgVNSRe"
   },
   "source": [
    "Now we are ready to predict color of a random name:"
   ]
  },
  {
   "cell_type": "code",
   "execution_count": 180,
   "metadata": {
    "id": "4CIIehOknH3O"
   },
   "outputs": [],
   "source": [
    "# Plot a color image.\n",
    "def plot_rgb(rgb):\n",
    "    data = [[rgb]]\n",
    "    plt.figure(figsize=(2,2))\n",
    "    plt.imshow(data, interpolation='nearest')\n",
    "    plt.show()"
   ]
  },
  {
   "cell_type": "code",
   "execution_count": 181,
   "metadata": {
    "id": "zPpFE5yxnH3O"
   },
   "outputs": [],
   "source": [
    "def scale(n):\n",
    "    return int(n * 255) "
   ]
  },
  {
   "cell_type": "code",
   "execution_count": 112,
   "metadata": {
    "id": "lh59cD_OnH3O"
   },
   "outputs": [],
   "source": [
    "def predict(name):\n",
    "    name = name.lower()\n",
    "    tokenized = t.texts_to_sequences([name])\n",
    "    padded = preprocessing.sequence.pad_sequences(tokenized, maxlen=maxlen)\n",
    "    one_hot = np_utils.to_categorical(padded, num_classes=num_classes)\n",
    "    pred = model.predict(np.array(one_hot))[0]\n",
    "    r, g, b = scale(pred[0]), scale(pred[1]), scale(pred[2])\n",
    "    print(name + ',', 'R,G,B:', r,g,b)\n",
    "    plot_rgb(pred)"
   ]
  },
  {
   "cell_type": "code",
   "execution_count": null,
   "metadata": {
    "colab": {
     "base_uri": "https://localhost:8080/",
     "height": 487
    },
    "id": "AQBsvxnJnH3O",
    "outputId": "88049633-41af-4363-bb59-c2d9d3412aec"
   },
   "outputs": [
    {
     "name": "stdout",
     "output_type": "stream",
     "text": [
      "light blue, R,G,B: 156 214 243\n"
     ]
    },
    {
     "data": {
      "image/png": "[encoded data removed]",
      "text/plain": [
       "<Figure size 144x144 with 1 Axes>"
      ]
     },
     "metadata": {
      "needs_background": "light",
      "tags": []
     },
     "output_type": "display_data"
    },
    {
     "name": "stdout",
     "output_type": "stream",
     "text": [
      "blue, R,G,B: 8 38 213\n"
     ]
    },
    {
     "data": {
      "image/png": "[encoded data removed]",
      "text/plain": [
       "<Figure size 144x144 with 1 Axes>"
      ]
     },
     "metadata": {
      "needs_background": "light",
      "tags": []
     },
     "output_type": "display_data"
    },
    {
     "name": "stdout",
     "output_type": "stream",
     "text": [
      "dark blue, R,G,B: 10 17 117\n"
     ]
    },
    {
     "data": {
      "image/png": "[encoded data removed]",
      "text/plain": [
       "<Figure size 144x144 with 1 Axes>"
      ]
     },
     "metadata": {
      "needs_background": "light",
      "tags": []
     },
     "output_type": "display_data"
    }
   ],
   "source": [
    "predict(\"light blue\")\n",
    "predict(\"blue\")\n",
    "predict(\"dark blue\")"
   ]
  },
  {
   "cell_type": "code",
   "execution_count": null,
   "metadata": {
    "colab": {
     "base_uri": "https://localhost:8080/",
     "height": 330
    },
    "id": "FRmvxzb2nH3O",
    "outputId": "36d04ba9-161f-4e6f-a3f8-8c0f998bb0b2"
   },
   "outputs": [
    {
     "name": "stdout",
     "output_type": "stream",
     "text": [
      "black, R,G,B: 28 26 39\n"
     ]
    },
    {
     "data": {
      "image/png": "[encoded data removed]",
      "text/plain": [
       "<Figure size 144x144 with 1 Axes>"
      ]
     },
     "metadata": {
      "needs_background": "light",
      "tags": []
     },
     "output_type": "display_data"
    },
    {
     "name": "stdout",
     "output_type": "stream",
     "text": [
      "white, R,G,B: 244 241 238\n"
     ]
    },
    {
     "data": {
      "image/png": "[encoded data removed]",
      "text/plain": [
       "<Figure size 144x144 with 1 Axes>"
      ]
     },
     "metadata": {
      "needs_background": "light",
      "tags": []
     },
     "output_type": "display_data"
    }
   ],
   "source": [
    "predict(\"black\")\n",
    "predict(\"white\")"
   ]
  },
  {
   "cell_type": "code",
   "execution_count": null,
   "metadata": {
    "colab": {
     "base_uri": "https://localhost:8080/",
     "height": 644
    },
    "id": "4wEvBmf9nH3P",
    "outputId": "464e3ad9-ffb5-4cd6-ba19-59ffa549edd8"
   },
   "outputs": [
    {
     "name": "stdout",
     "output_type": "stream",
     "text": [
      "tensorflow orange, R,G,B: 236 130 63\n"
     ]
    },
    {
     "data": {
      "image/png": "[encoded data removed]",
      "text/plain": [
       "<Figure size 144x144 with 1 Axes>"
      ]
     },
     "metadata": {
      "needs_background": "light",
      "tags": []
     },
     "output_type": "display_data"
    },
    {
     "name": "stdout",
     "output_type": "stream",
     "text": [
      "forest, R,G,B: 33 73 43\n"
     ]
    },
    {
     "data": {
      "image/png": "[encoded data removed]",
      "text/plain": [
       "<Figure size 144x144 with 1 Axes>"
      ]
     },
     "metadata": {
      "needs_background": "light",
      "tags": []
     },
     "output_type": "display_data"
    },
    {
     "name": "stdout",
     "output_type": "stream",
     "text": [
      "evergreen, R,G,B: 23 64 39\n"
     ]
    },
    {
     "data": {
      "image/png": "[encoded data removed]",
      "text/plain": [
       "<Figure size 144x144 with 1 Axes>"
      ]
     },
     "metadata": {
      "needs_background": "light",
      "tags": []
     },
     "output_type": "display_data"
    },
    {
     "name": "stdout",
     "output_type": "stream",
     "text": [
      "tangerine, R,G,B: 250 106 21\n"
     ]
    },
    {
     "data": {
      "image/png": "[encoded data removed]",
      "text/plain": [
       "<Figure size 144x144 with 1 Axes>"
      ]
     },
     "metadata": {
      "needs_background": "light",
      "tags": []
     },
     "output_type": "display_data"
    }
   ],
   "source": [
    "predict(\"tensorflow orange\")\n",
    "predict(\"forest\")\n",
    "predict(\"evergreen\")\n",
    "predict(\"tangerine\")"
   ]
  },
  {
   "cell_type": "code",
   "execution_count": null,
   "metadata": {
    "colab": {
     "base_uri": "https://localhost:8080/",
     "height": 174
    },
    "id": "m38gH5xanH3P",
    "outputId": "209b9cda-8879-4029-a8fa-1ca9c1096b24"
   },
   "outputs": [
    {
     "name": "stdout",
     "output_type": "stream",
     "text": [
      "princess ivory, R,G,B: 219 220 194\n"
     ]
    },
    {
     "data": {
      "image/png": "[encoded data removed]",
      "text/plain": [
       "<Figure size 144x144 with 1 Axes>"
      ]
     },
     "metadata": {
      "needs_background": "light",
      "tags": []
     },
     "output_type": "display_data"
    }
   ],
   "source": [
    "predict(\"princess ivory\")"
   ]
  },
  {
   "cell_type": "code",
   "execution_count": null,
   "metadata": {
    "colab": {
     "base_uri": "https://localhost:8080/",
     "height": 174
    },
    "id": "SE4CFRyonH3P",
    "outputId": "cdf6f0c3-d45d-4e1a-bd8d-34712ae3ab42"
   },
   "outputs": [
    {
     "name": "stdout",
     "output_type": "stream",
     "text": [
      "bull cream, R,G,B: 231 236 205\n"
     ]
    },
    {
     "data": {
      "image/png": "[encoded data removed]",
      "text/plain": [
       "<Figure size 144x144 with 1 Axes>"
      ]
     },
     "metadata": {
      "needs_background": "light",
      "tags": []
     },
     "output_type": "display_data"
    }
   ],
   "source": [
    "predict(\"bull cream\")"
   ]
  },
  {
   "cell_type": "code",
   "execution_count": null,
   "metadata": {
    "colab": {
     "base_uri": "https://localhost:8080/",
     "height": 174
    },
    "id": "hLTxal__nH3P",
    "outputId": "a29f18a8-e350-4b95-c31f-4dacc09209eb"
   },
   "outputs": [
    {
     "name": "stdout",
     "output_type": "stream",
     "text": [
      "keras red, R,G,B: 192 31 49\n"
     ]
    },
    {
     "data": {
      "image/png": "[encoded data removed]",
      "text/plain": [
       "<Figure size 144x144 with 1 Axes>"
      ]
     },
     "metadata": {
      "needs_background": "light",
      "tags": []
     },
     "output_type": "display_data"
    }
   ],
   "source": [
    "predict(\"keras red\")"
   ]
  },
  {
   "cell_type": "code",
   "execution_count": null,
   "metadata": {
    "colab": {
     "base_uri": "https://localhost:8080/",
     "height": 644
    },
    "id": "-0DqUBUUnH3P",
    "outputId": "e1b07b47-3487-4837-c18c-7b87f1fee905"
   },
   "outputs": [
    {
     "name": "stdout",
     "output_type": "stream",
     "text": [
      "tensorflow orange, R,G,B: 236 130 63\n"
     ]
    },
    {
     "data": {
      "image/png": "[encoded data removed]",
      "text/plain": [
       "<Figure size 144x144 with 1 Axes>"
      ]
     },
     "metadata": {
      "needs_background": "light",
      "tags": []
     },
     "output_type": "display_data"
    },
    {
     "name": "stdout",
     "output_type": "stream",
     "text": [
      "forest, R,G,B: 33 73 43\n"
     ]
    },
    {
     "data": {
      "image/png": "[encoded data removed]",
      "text/plain": [
       "<Figure size 144x144 with 1 Axes>"
      ]
     },
     "metadata": {
      "needs_background": "light",
      "tags": []
     },
     "output_type": "display_data"
    },
    {
     "name": "stdout",
     "output_type": "stream",
     "text": [
      "bull cream, R,G,B: 231 236 205\n"
     ]
    },
    {
     "data": {
      "image/png": "[encoded data removed]",
      "text/plain": [
       "<Figure size 144x144 with 1 Axes>"
      ]
     },
     "metadata": {
      "needs_background": "light",
      "tags": []
     },
     "output_type": "display_data"
    },
    {
     "name": "stdout",
     "output_type": "stream",
     "text": [
      "keras red, R,G,B: 192 31 49\n"
     ]
    },
    {
     "data": {
      "image/png": "[encoded data removed]",
      "text/plain": [
       "<Figure size 144x144 with 1 Axes>"
      ]
     },
     "metadata": {
      "needs_background": "light",
      "tags": []
     },
     "output_type": "display_data"
    }
   ],
   "source": [
    "predict(\"tensorflow orange\")\n",
    "predict(\"forest\")\n",
    "predict(\"bull cream\")\n",
    "predict(\"keras red\")"
   ]
  },
  {
   "cell_type": "markdown",
   "metadata": {
    "id": "G6a98JKGNe4R"
   },
   "source": [
    "## Questions and Exercises\n",
    "\n",
    "1. We got, with the current model, a `val_acc = 0.6942` when training the model. Explore different strategies to train the model in order to get better results. Some ideas (no guarantee!):\n",
    "    + You can train the model using character bigrams (such as `aa`, `ab`, ..., `zz`), or even trigrams, instead of characters. This should produce a more powerful model, but the devil is in the details. For example, some bigrams cannot be present in the training set but they might be in the training set. If we want to build a generic model we should consider any possible bigram.\n",
    "    + You can use an embedding layer to represents bigrams or trigrams.\n",
    "    + You can use bidirectional LSTM to learn sequences.\n",
    "    + Etc.\n",
    "\n",
    "2. Design and train a model to predict words from color. That is, your input will be a RGB triplet and your outputs a string. This is a one-to-many sequence model. This problem is harder than the previous one...\n",
    "\n",
    "# Report\n",
    "\n",
    "Please, answer the following questions (and include in this notebook all code necessary to suport your answers):\n",
    "\n",
    "1. Which is the best model you have build? (architecture, word representations, etc.)\n",
    "2. Report, in terms of accuracy, the best model you got to predict words from colors. Show examples. \n"
   ]
  },
  {
   "cell_type": "markdown",
   "metadata": {},
   "source": [
    "## <font color='red'> MY SOLUTIONS"
   ]
  },
  {
   "cell_type": "markdown",
   "metadata": {},
   "source": [
    "Following the hints we will start with a bigram strategy. \n",
    "\n",
    "In order to do that we will consider all the possible bigrams (considering only letters and single blank space as possible characters). The tokens will be generated mapping on a dictonary with all the combinations and a fixed lenght $maxlen = 30$."
   ]
  },
  {
   "cell_type": "code",
   "execution_count": 182,
   "metadata": {},
   "outputs": [],
   "source": [
    "from sklearn.feature_extraction.text import CountVectorizer\n",
    "import string\n",
    "import itertools\n",
    "import json\n",
    "\n",
    "def dictionary_n(n):\n",
    "    alpha = string.ascii_lowercase ; alpha = alpha + ' '\n",
    "    all_n = [p for p in itertools.product(alpha, repeat=n)]\n",
    "    all_n = [''.join(x) for x in all_n]\n",
    "    for k in all_n:\n",
    "        if \"  \" in k:\n",
    "            all_n.remove(k)\n",
    "    all_n = {k: v for v, k in enumerate(all_n)}\n",
    "    return all_n\n",
    "\n",
    "def tokens_ngram_generator(n, names,  maxlen):\n",
    "    vectorizer = CountVectorizer(analyzer='char', ngram_range=(n, n), vocabulary=dictionary_n(n))\n",
    "    X = vectorizer.fit_transform(names)\n",
    "    X = np.array([x.indices for x in X])\n",
    "    padded_X = tf.keras.preprocessing.sequence.pad_sequences(\n",
    "               X, padding=\"pre\", maxlen=maxlen)\n",
    "    return padded_X\n",
    "\n",
    "#To save history and model\n",
    "def hist_model_save(mod, hist):\n",
    "    model.save(str(mod)+'.h5')\n",
    "    with open(str(hist)+'.json', 'w') as file:\n",
    "        json.dump(hist.history, file)\n",
    "\n",
    "#To compare two different validation accuracy plot        \n",
    "def acc_comparison(hist1, hist2, lab1, lab2):    \n",
    "    acc1 = hist1['val_acc']\n",
    "    acc2 = hist2['val_acc']\n",
    "\n",
    "    epochs1 = range(len(acc1))\n",
    "    epochs2 = range(len(acc2))\n",
    "\n",
    "    plt.plot(epochs1, acc1, 'r', label=lab1)\n",
    "    plt.plot(epochs2, acc2, 'b', label=lab2)\n",
    "    plt.title('Validation accuracy')\n",
    "    plt.legend()\n",
    "\n",
    "    plt.legend()\n",
    "\n",
    "    plt.show()        "
   ]
  },
  {
   "cell_type": "code",
   "execution_count": 183,
   "metadata": {},
   "outputs": [
    {
     "name": "stdout",
     "output_type": "stream",
     "text": [
      "The number of classes for the bigram case is 728.\n"
     ]
    }
   ],
   "source": [
    "print('The number of classes for the bigram case is {}.'.format(len(dictionary_n(2))))"
   ]
  },
  {
   "cell_type": "code",
   "execution_count": 184,
   "metadata": {},
   "outputs": [
    {
     "data": {
      "text/plain": [
       "(14157, 30)"
      ]
     },
     "execution_count": 184,
     "metadata": {},
     "output_type": "execute_result"
    }
   ],
   "source": [
    "corpus = list(names.values)\n",
    "padded_tok = tokens_ngram_generator(2, corpus, 30)\n",
    "padded_tok.shape"
   ]
  },
  {
   "cell_type": "markdown",
   "metadata": {},
   "source": [
    "As for the monogram case I performed a one hot encode. Obtaing for each color name a tensor of dimensions $30 \\times 728$"
   ]
  },
  {
   "cell_type": "code",
   "execution_count": 185,
   "metadata": {},
   "outputs": [
    {
     "data": {
      "text/plain": [
       "(728, (14157, 30, 728))"
      ]
     },
     "execution_count": 185,
     "metadata": {},
     "output_type": "execute_result"
    }
   ],
   "source": [
    "one_hot_names = np_utils.to_categorical(padded_tok)\n",
    "num_classes_bi = one_hot_names.shape[-1]\n",
    "num_classes_bi, one_hot_names.shape"
   ]
  },
  {
   "cell_type": "markdown",
   "metadata": {},
   "source": [
    "After some trial, I decided to add some dropout layers in order to fight overfitting."
   ]
  },
  {
   "cell_type": "code",
   "execution_count": 19,
   "metadata": {},
   "outputs": [],
   "source": [
    "def LSTM_model_DO(maxlen, num_classes):    \n",
    "    model = Sequential()\n",
    "    model.add(LSTM(256, return_sequences=True, input_shape=(maxlen, num_classes)))\n",
    "    model.add(Dropout(0.4))\n",
    "    model.add(LSTM(128))\n",
    "    model.add(Dropout(0.4))\n",
    "    model.add(Dense(128, activation='relu'))\n",
    "    model.add(Dropout(0.4))\n",
    "    model.add(Dense(3, activation='sigmoid'))\n",
    "    model.compile(optimizer='adam', loss='mse', metrics=['acc'])\n",
    "    return model"
   ]
  },
  {
   "cell_type": "code",
   "execution_count": 20,
   "metadata": {},
   "outputs": [
    {
     "name": "stdout",
     "output_type": "stream",
     "text": [
      "Model: \"sequential_2\"\n",
      "_________________________________________________________________\n",
      "Layer (type)                 Output Shape              Param #   \n",
      "=================================================================\n",
      "lstm_4 (LSTM)                (None, 28, 256)           1008640   \n",
      "_________________________________________________________________\n",
      "dropout (Dropout)            (None, 28, 256)           0         \n",
      "_________________________________________________________________\n",
      "lstm_5 (LSTM)                (None, 128)               197120    \n",
      "_________________________________________________________________\n",
      "dropout_1 (Dropout)          (None, 128)               0         \n",
      "_________________________________________________________________\n",
      "dense_4 (Dense)              (None, 128)               16512     \n",
      "_________________________________________________________________\n",
      "dropout_2 (Dropout)          (None, 128)               0         \n",
      "_________________________________________________________________\n",
      "dense_5 (Dense)              (None, 3)                 387       \n",
      "=================================================================\n",
      "Total params: 1,222,659\n",
      "Trainable params: 1,222,659\n",
      "Non-trainable params: 0\n",
      "_________________________________________________________________\n"
     ]
    }
   ],
   "source": [
    "model_bi = LSTM_model_DO(28, 728)\n",
    "model_bi.summary()"
   ]
  },
  {
   "cell_type": "code",
   "execution_count": null,
   "metadata": {},
   "outputs": [],
   "source": [
    "model_bi = LSTM_model(28, 728)\n",
    "\n",
    "checkpoint = ModelCheckpoint(\"model_bi_params.h5\", monitor = \"val_loss\", verbose = 1, save_best_only = True)\n",
    "model_bi.fit(one_hot_names, normalized_values, epochs = 40, validation_split = 0.1, callbacks = [checkpoint])\n",
    "\n",
    "model_bi.load_weights(\"model_bi_params.h5\")"
   ]
  },
  {
   "cell_type": "code",
   "execution_count": 117,
   "metadata": {},
   "outputs": [],
   "source": [
    "import matplotlib.pyplot as plt\n",
    "\n",
    "#To plot histories\n",
    "def hist_plot(history):\n",
    "    acc = history['acc']\n",
    "    val_acc = history['val_acc']\n",
    "    loss = history['loss']\n",
    "    val_loss = history['val_loss']\n",
    "\n",
    "    epochs = range(len(acc))\n",
    "\n",
    "    plt.plot(epochs, acc, 'bo', label='Training acc')\n",
    "    plt.plot(epochs, val_acc, 'b', label='Validation acc')\n",
    "    plt.title('Training and validation accuracy')\n",
    "    plt.legend()\n",
    "\n",
    "    plt.figure()\n",
    "\n",
    "    plt.plot(epochs, loss, 'bo', label='Training loss')\n",
    "    plt.plot(epochs, val_loss, 'b', label='Validation loss')\n",
    "    plt.title('Training and validation loss')\n",
    "    plt.legend()\n",
    "\n",
    "    plt.show()"
   ]
  },
  {
   "cell_type": "markdown",
   "metadata": {},
   "source": [
    "Update prediction function to n-gram case\n"
   ]
  },
  {
   "cell_type": "code",
   "execution_count": 186,
   "metadata": {},
   "outputs": [],
   "source": [
    "def predict_col(name, maxlen, num_classes, n, model):\n",
    "    name = [name]\n",
    "    vectorizer = CountVectorizer(analyzer='char', ngram_range=(n, n), vocabulary=dictionary_n(n))\n",
    "    x = vectorizer.fit_transform(name)\n",
    "    x = np.array([x.indices])\n",
    "    padded_x = tf.keras.preprocessing.sequence.pad_sequences(\n",
    "               x, padding=\"pre\", maxlen=maxlen)\n",
    "    one_hot = np_utils.to_categorical(padded_x, num_classes=num_classes)\n",
    "    pred = model.predict(np.array(one_hot))[0]\n",
    "    r, g, b = scale(pred[0]), scale(pred[1]), scale(pred[2])\n",
    "    print(name[0] + ',', 'R,G,B:', r,g,b)\n",
    "    plot_rgb(pred)"
   ]
  },
  {
   "cell_type": "code",
   "execution_count": 187,
   "metadata": {},
   "outputs": [],
   "source": [
    "model_bi = load_model('model_bi_DO.h5')\n",
    "model_bi.load_weights(\"model_bi_DO_params.h5\")"
   ]
  },
  {
   "cell_type": "markdown",
   "metadata": {},
   "source": [
    "As we can see, using a bigram, I improved a little bit the accuracy..."
   ]
  },
  {
   "cell_type": "code",
   "execution_count": 191,
   "metadata": {},
   "outputs": [
    {
     "data": {
      "image/png": "[encoded data removed]",
      "text/plain": [
       "<Figure size 432x288 with 1 Axes>"
      ]
     },
     "metadata": {
      "needs_background": "light"
     },
     "output_type": "display_data"
    },
    {
     "data": {
      "image/png": "[encoded data removed]",
      "text/plain": [
       "<Figure size 432x288 with 1 Axes>"
      ]
     },
     "metadata": {
      "needs_background": "light"
     },
     "output_type": "display_data"
    }
   ],
   "source": [
    "hist_bi = open('hist_bi_DO.json').read()\n",
    "hist_bi = eval(hist_bi)\n",
    "hist_plot(hist_bi)"
   ]
  },
  {
   "cell_type": "code",
   "execution_count": 192,
   "metadata": {},
   "outputs": [
    {
     "data": {
      "image/png": "[encoded data removed]",
      "text/plain": [
       "<Figure size 432x288 with 1 Axes>"
      ]
     },
     "metadata": {
      "needs_background": "light"
     },
     "output_type": "display_data"
    }
   ],
   "source": [
    "hist0 = open('history0.json').read()\n",
    "hist0 = eval(hist0)\n",
    "acc_comparison(hist_bi, hist0, 'Bi', 'Mono')"
   ]
  },
  {
   "cell_type": "markdown",
   "metadata": {},
   "source": [
    "...but the number of dimensions (the time of computation) rise a lot. Again following the hints I try to add an embedding layer. After some trial and error i set an embedding dimension of 100. "
   ]
  },
  {
   "cell_type": "code",
   "execution_count": 26,
   "metadata": {},
   "outputs": [],
   "source": [
    "def LSTM_model_emb(num_classes, emb_dim):    \n",
    "    from tensorflow.keras import layers\n",
    "    # Input for variable-length sequences of integers\n",
    "    inputs = keras.Input(shape=(None,), dtype=\"int32\")\n",
    "    # Embed each integer in a 100-dimensional vector\n",
    "    x = layers.Embedding(num_classes, emb_dim)(inputs)\n",
    "    # Add 2 LSTMs\n",
    "    x = layers.LSTM(256, return_sequences=True)(x)\n",
    "    x = layers.LSTM(128)(x)\n",
    "    x = layers.Dense(128)(x)\n",
    "    # Add a classifier\n",
    "    outputs = layers.Dense(3, activation=\"sigmoid\")(x)\n",
    "    model = keras.Model(inputs, outputs)\n",
    "    model.compile(optimizer='adam', loss='mse', metrics=['acc'])\n",
    "    return model"
   ]
  },
  {
   "cell_type": "code",
   "execution_count": 27,
   "metadata": {},
   "outputs": [
    {
     "name": "stdout",
     "output_type": "stream",
     "text": [
      "Model: \"functional_1\"\n",
      "_________________________________________________________________\n",
      "Layer (type)                 Output Shape              Param #   \n",
      "=================================================================\n",
      "input_1 (InputLayer)         [(None, None)]            0         \n",
      "_________________________________________________________________\n",
      "embedding (Embedding)        (None, None, 100)         72800     \n",
      "_________________________________________________________________\n",
      "lstm_6 (LSTM)                (None, None, 256)         365568    \n",
      "_________________________________________________________________\n",
      "lstm_7 (LSTM)                (None, 128)               197120    \n",
      "_________________________________________________________________\n",
      "dense_6 (Dense)              (None, 128)               16512     \n",
      "_________________________________________________________________\n",
      "dense_7 (Dense)              (None, 3)                 387       \n",
      "=================================================================\n",
      "Total params: 652,387\n",
      "Trainable params: 652,387\n",
      "Non-trainable params: 0\n",
      "_________________________________________________________________\n"
     ]
    }
   ],
   "source": [
    "model_emb = LSTM_model_emb(728, 100)\n",
    "model_emb.summary()"
   ]
  },
  {
   "cell_type": "code",
   "execution_count": 63,
   "metadata": {},
   "outputs": [
    {
     "name": "stdout",
     "output_type": "stream",
     "text": [
      "Epoch 1/40\n",
      "399/399 [==============================] - ETA: 0s - loss: 0.0484 - acc: 0.6645\n",
      "Epoch 00001: val_loss improved from inf to 0.05094, saving model to model_emb_params.h5\n",
      "399/399 [==============================] - 41s 102ms/step - loss: 0.0484 - acc: 0.6645 - val_loss: 0.0509 - val_acc: 0.6871\n",
      "Epoch 2/40\n",
      "399/399 [==============================] - ETA: 0s - loss: 0.0465 - acc: 0.6674\n",
      "Epoch 00002: val_loss improved from 0.05094 to 0.05000, saving model to model_emb_params.h5\n",
      "399/399 [==============================] - 45s 113ms/step - loss: 0.0465 - acc: 0.6674 - val_loss: 0.0500 - val_acc: 0.6928\n",
      "Epoch 3/40\n",
      "399/399 [==============================] - ETA: 0s - loss: 0.0450 - acc: 0.6698\n",
      "Epoch 00003: val_loss improved from 0.05000 to 0.04861, saving model to model_emb_params.h5\n",
      "399/399 [==============================] - 41s 103ms/step - loss: 0.0450 - acc: 0.6698 - val_loss: 0.0486 - val_acc: 0.6582\n",
      "Epoch 4/40\n",
      "399/399 [==============================] - ETA: 0s - loss: 0.0435 - acc: 0.6715\n",
      "Epoch 00004: val_loss improved from 0.04861 to 0.04834, saving model to model_emb_params.h5\n",
      "399/399 [==============================] - 43s 108ms/step - loss: 0.0435 - acc: 0.6715 - val_loss: 0.0483 - val_acc: 0.6462\n",
      "Epoch 5/40\n",
      "399/399 [==============================] - ETA: 0s - loss: 0.0420 - acc: 0.6768\n",
      "Epoch 00005: val_loss improved from 0.04834 to 0.04630, saving model to model_emb_params.h5\n",
      "399/399 [==============================] - 42s 105ms/step - loss: 0.0420 - acc: 0.6768 - val_loss: 0.0463 - val_acc: 0.6829\n",
      "Epoch 6/40\n",
      "399/399 [==============================] - ETA: 0s - loss: 0.0404 - acc: 0.6834\n",
      "Epoch 00006: val_loss did not improve from 0.04630\n",
      "399/399 [==============================] - 48s 120ms/step - loss: 0.0404 - acc: 0.6834 - val_loss: 0.0464 - val_acc: 0.6603\n",
      "Epoch 7/40\n",
      "399/399 [==============================] - ETA: 0s - loss: 0.0390 - acc: 0.6838\n",
      "Epoch 00007: val_loss did not improve from 0.04630\n",
      "399/399 [==============================] - 47s 118ms/step - loss: 0.0390 - acc: 0.6838 - val_loss: 0.0466 - val_acc: 0.6758\n",
      "Epoch 8/40\n",
      "399/399 [==============================] - ETA: 0s - loss: 0.0374 - acc: 0.6904\n",
      "Epoch 00008: val_loss improved from 0.04630 to 0.04574, saving model to model_emb_params.h5\n",
      "399/399 [==============================] - 43s 109ms/step - loss: 0.0374 - acc: 0.6904 - val_loss: 0.0457 - val_acc: 0.7013\n",
      "Epoch 9/40\n",
      "399/399 [==============================] - ETA: 0s - loss: 0.0359 - acc: 0.6946\n",
      "Epoch 00009: val_loss did not improve from 0.04574\n",
      "399/399 [==============================] - 42s 105ms/step - loss: 0.0359 - acc: 0.6946 - val_loss: 0.0460 - val_acc: 0.6674\n",
      "Epoch 10/40\n",
      "399/399 [==============================] - ETA: 0s - loss: 0.0341 - acc: 0.6930\n",
      "Epoch 00010: val_loss did not improve from 0.04574\n",
      "399/399 [==============================] - 42s 106ms/step - loss: 0.0341 - acc: 0.6930 - val_loss: 0.0465 - val_acc: 0.6504\n",
      "Epoch 11/40\n",
      "399/399 [==============================] - ETA: 0s - loss: 0.0325 - acc: 0.6976\n",
      "Epoch 00011: val_loss did not improve from 0.04574\n",
      "399/399 [==============================] - 42s 105ms/step - loss: 0.0325 - acc: 0.6976 - val_loss: 0.0468 - val_acc: 0.7013\n",
      "Epoch 12/40\n",
      "399/399 [==============================] - ETA: 0s - loss: 0.0306 - acc: 0.7084\n",
      "Epoch 00012: val_loss did not improve from 0.04574\n",
      "399/399 [==============================] - 43s 108ms/step - loss: 0.0306 - acc: 0.7084 - val_loss: 0.0471 - val_acc: 0.6801\n",
      "Epoch 13/40\n",
      "399/399 [==============================] - ETA: 0s - loss: 0.0286 - acc: 0.7048\n",
      "Epoch 00013: val_loss did not improve from 0.04574\n",
      "399/399 [==============================] - 43s 108ms/step - loss: 0.0286 - acc: 0.7048 - val_loss: 0.0467 - val_acc: 0.6928\n",
      "Epoch 14/40\n",
      "399/399 [==============================] - ETA: 0s - loss: 0.0265 - acc: 0.7095\n",
      "Epoch 00014: val_loss did not improve from 0.04574\n",
      "399/399 [==============================] - 41s 104ms/step - loss: 0.0265 - acc: 0.7095 - val_loss: 0.0487 - val_acc: 0.6518\n",
      "Epoch 15/40\n",
      "399/399 [==============================] - ETA: 0s - loss: 0.0242 - acc: 0.7105\n",
      "Epoch 00015: val_loss did not improve from 0.04574\n",
      "399/399 [==============================] - 42s 104ms/step - loss: 0.0242 - acc: 0.7105 - val_loss: 0.0509 - val_acc: 0.6992\n",
      "Epoch 16/40\n",
      "399/399 [==============================] - ETA: 0s - loss: 0.0216 - acc: 0.7169\n",
      "Epoch 00016: val_loss did not improve from 0.04574\n",
      "399/399 [==============================] - 42s 105ms/step - loss: 0.0216 - acc: 0.7169 - val_loss: 0.0514 - val_acc: 0.6871\n",
      "Epoch 17/40\n",
      "399/399 [==============================] - ETA: 0s - loss: 0.0192 - acc: 0.7171\n",
      "Epoch 00017: val_loss did not improve from 0.04574\n",
      "399/399 [==============================] - 42s 106ms/step - loss: 0.0192 - acc: 0.7171 - val_loss: 0.0519 - val_acc: 0.6758\n",
      "Epoch 18/40\n",
      "399/399 [==============================] - ETA: 0s - loss: 0.0168 - acc: 0.7286\n",
      "Epoch 00018: val_loss did not improve from 0.04574\n",
      "399/399 [==============================] - 42s 106ms/step - loss: 0.0168 - acc: 0.7286 - val_loss: 0.0518 - val_acc: 0.6709\n",
      "Epoch 19/40\n",
      "399/399 [==============================] - ETA: 0s - loss: 0.0148 - acc: 0.7340\n",
      "Epoch 00019: val_loss did not improve from 0.04574\n",
      "399/399 [==============================] - 42s 105ms/step - loss: 0.0148 - acc: 0.7340 - val_loss: 0.0524 - val_acc: 0.6963\n",
      "Epoch 20/40\n",
      "399/399 [==============================] - ETA: 0s - loss: 0.0130 - acc: 0.7412\n",
      "Epoch 00020: val_loss did not improve from 0.04574\n",
      "399/399 [==============================] - 42s 106ms/step - loss: 0.0130 - acc: 0.7412 - val_loss: 0.0527 - val_acc: 0.6949\n",
      "Epoch 21/40\n",
      "399/399 [==============================] - ETA: 0s - loss: 0.0116 - acc: 0.7522\n",
      "Epoch 00021: val_loss did not improve from 0.04574\n",
      "399/399 [==============================] - 43s 107ms/step - loss: 0.0116 - acc: 0.7522 - val_loss: 0.0521 - val_acc: 0.6829\n",
      "Epoch 22/40\n",
      "399/399 [==============================] - ETA: 0s - loss: 0.0104 - acc: 0.7612\n",
      "Epoch 00022: val_loss did not improve from 0.04574\n",
      "399/399 [==============================] - 42s 106ms/step - loss: 0.0104 - acc: 0.7612 - val_loss: 0.0533 - val_acc: 0.6871\n",
      "Epoch 23/40\n",
      "399/399 [==============================] - ETA: 0s - loss: 0.0094 - acc: 0.7696\n",
      "Epoch 00023: val_loss did not improve from 0.04574\n",
      "399/399 [==============================] - 44s 111ms/step - loss: 0.0094 - acc: 0.7696 - val_loss: 0.0538 - val_acc: 0.6836\n",
      "Epoch 24/40\n",
      "399/399 [==============================] - ETA: 0s - loss: 0.0087 - acc: 0.7765\n",
      "Epoch 00024: val_loss did not improve from 0.04574\n",
      "399/399 [==============================] - 41s 103ms/step - loss: 0.0087 - acc: 0.7765 - val_loss: 0.0533 - val_acc: 0.6744\n",
      "Epoch 25/40\n",
      "399/399 [==============================] - ETA: 0s - loss: 0.0080 - acc: 0.7854\n",
      "Epoch 00025: val_loss did not improve from 0.04574\n",
      "399/399 [==============================] - 45s 112ms/step - loss: 0.0080 - acc: 0.7854 - val_loss: 0.0543 - val_acc: 0.6984\n",
      "Epoch 26/40\n",
      "399/399 [==============================] - ETA: 0s - loss: 0.0075 - acc: 0.8003\n",
      "Epoch 00026: val_loss did not improve from 0.04574\n",
      "399/399 [==============================] - 43s 109ms/step - loss: 0.0075 - acc: 0.8003 - val_loss: 0.0555 - val_acc: 0.6914\n",
      "Epoch 27/40\n",
      "399/399 [==============================] - ETA: 0s - loss: 0.0070 - acc: 0.8027\n",
      "Epoch 00027: val_loss did not improve from 0.04574\n",
      "399/399 [==============================] - 42s 105ms/step - loss: 0.0070 - acc: 0.8027 - val_loss: 0.0532 - val_acc: 0.7034\n",
      "Epoch 28/40\n",
      "399/399 [==============================] - ETA: 0s - loss: 0.0067 - acc: 0.8105\n",
      "Epoch 00028: val_loss did not improve from 0.04574\n",
      "399/399 [==============================] - 44s 111ms/step - loss: 0.0067 - acc: 0.8105 - val_loss: 0.0531 - val_acc: 0.6822\n",
      "Epoch 29/40\n",
      "399/399 [==============================] - ETA: 0s - loss: 0.0064 - acc: 0.8164\n",
      "Epoch 00029: val_loss did not improve from 0.04574\n",
      "399/399 [==============================] - 49s 122ms/step - loss: 0.0064 - acc: 0.8164 - val_loss: 0.0535 - val_acc: 0.6801\n",
      "Epoch 30/40\n",
      "399/399 [==============================] - ETA: 0s - loss: 0.0062 - acc: 0.8176\n",
      "Epoch 00030: val_loss did not improve from 0.04574\n",
      "399/399 [==============================] - 42s 105ms/step - loss: 0.0062 - acc: 0.8176 - val_loss: 0.0532 - val_acc: 0.6829\n"
     ]
    },
    {
     "name": "stdout",
     "output_type": "stream",
     "text": [
      "Epoch 31/40\n",
      "399/399 [==============================] - ETA: 0s - loss: 0.0060 - acc: 0.8298\n",
      "Epoch 00031: val_loss did not improve from 0.04574\n",
      "399/399 [==============================] - 39s 98ms/step - loss: 0.0060 - acc: 0.8298 - val_loss: 0.0539 - val_acc: 0.6773\n",
      "Epoch 32/40\n",
      "399/399 [==============================] - ETA: 0s - loss: 0.0058 - acc: 0.8280\n",
      "Epoch 00032: val_loss did not improve from 0.04574\n",
      "399/399 [==============================] - 42s 104ms/step - loss: 0.0058 - acc: 0.8280 - val_loss: 0.0525 - val_acc: 0.6773\n",
      "Epoch 33/40\n",
      "399/399 [==============================] - ETA: 0s - loss: 0.0056 - acc: 0.8335\n",
      "Epoch 00033: val_loss did not improve from 0.04574\n",
      "399/399 [==============================] - 36s 91ms/step - loss: 0.0056 - acc: 0.8335 - val_loss: 0.0525 - val_acc: 0.6949\n",
      "Epoch 34/40\n",
      "399/399 [==============================] - ETA: 0s - loss: 0.0054 - acc: 0.8378\n",
      "Epoch 00034: val_loss did not improve from 0.04574\n",
      "399/399 [==============================] - 36s 91ms/step - loss: 0.0054 - acc: 0.8378 - val_loss: 0.0542 - val_acc: 0.6787\n",
      "Epoch 35/40\n",
      "399/399 [==============================] - ETA: 0s - loss: 0.0054 - acc: 0.8452\n",
      "Epoch 00035: val_loss did not improve from 0.04574\n",
      "399/399 [==============================] - 36s 91ms/step - loss: 0.0054 - acc: 0.8452 - val_loss: 0.0518 - val_acc: 0.6822\n",
      "Epoch 36/40\n",
      "399/399 [==============================] - ETA: 0s - loss: 0.0053 - acc: 0.8416\n",
      "Epoch 00036: val_loss did not improve from 0.04574\n",
      "399/399 [==============================] - 36s 91ms/step - loss: 0.0053 - acc: 0.8416 - val_loss: 0.0534 - val_acc: 0.6907\n",
      "Epoch 37/40\n",
      "399/399 [==============================] - ETA: 0s - loss: 0.0051 - acc: 0.8479\n",
      "Epoch 00037: val_loss did not improve from 0.04574\n",
      "399/399 [==============================] - 37s 91ms/step - loss: 0.0051 - acc: 0.8479 - val_loss: 0.0551 - val_acc: 0.6956\n",
      "Epoch 38/40\n",
      "399/399 [==============================] - ETA: 0s - loss: 0.0051 - acc: 0.8502\n",
      "Epoch 00038: val_loss did not improve from 0.04574\n",
      "399/399 [==============================] - 36s 91ms/step - loss: 0.0051 - acc: 0.8502 - val_loss: 0.0520 - val_acc: 0.6949\n",
      "Epoch 39/40\n",
      "399/399 [==============================] - ETA: 0s - loss: 0.0050 - acc: 0.8558\n",
      "Epoch 00039: val_loss did not improve from 0.04574\n",
      "399/399 [==============================] - 36s 91ms/step - loss: 0.0050 - acc: 0.8558 - val_loss: 0.0527 - val_acc: 0.6886\n",
      "Epoch 40/40\n",
      "399/399 [==============================] - ETA: 0s - loss: 0.0049 - acc: 0.8605\n",
      "Epoch 00040: val_loss did not improve from 0.04574\n",
      "399/399 [==============================] - 36s 91ms/step - loss: 0.0049 - acc: 0.8605 - val_loss: 0.0520 - val_acc: 0.6992\n"
     ]
    }
   ],
   "source": [
    "checkpoint = ModelCheckpoint(\"model_emb_params.h5\", monitor = \"val_loss\", verbose = 1, save_best_only = True)\n",
    "\n",
    "hist_emb = model_emb.fit(padded_tok, normalized_values, epochs = 40, validation_split = 0.1, callbacks = [checkpoint])\n",
    "\n",
    "model_emb.load_weights(\"model_emb_params.h5\")"
   ]
  },
  {
   "cell_type": "code",
   "execution_count": 193,
   "metadata": {},
   "outputs": [
    {
     "data": {
      "image/png": "[encoded data removed]",
      "text/plain": [
       "<Figure size 432x288 with 1 Axes>"
      ]
     },
     "metadata": {
      "needs_background": "light"
     },
     "output_type": "display_data"
    },
    {
     "data": {
      "image/png": "[encoded data removed]",
      "text/plain": [
       "<Figure size 432x288 with 1 Axes>"
      ]
     },
     "metadata": {
      "needs_background": "light"
     },
     "output_type": "display_data"
    }
   ],
   "source": [
    "hist_emb = open('hist_emb.json').read()\n",
    "hist_emb = eval(hist_emb)\n",
    "hist_plot(hist_emb)"
   ]
  },
  {
   "cell_type": "markdown",
   "metadata": {},
   "source": [
    "As we can see the improvement in accuracy is not that big. But we reduced a lot the dimensions, speeding up a lot the algorithm."
   ]
  },
  {
   "cell_type": "code",
   "execution_count": 194,
   "metadata": {
    "scrolled": true
   },
   "outputs": [
    {
     "data": {
      "image/png": "[encoded data removed]",
      "text/plain": [
       "<Figure size 432x288 with 1 Axes>"
      ]
     },
     "metadata": {
      "needs_background": "light"
     },
     "output_type": "display_data"
    }
   ],
   "source": [
    "acc_comparison(hist_bi, hist_emb, 'Bi', 'Bi Embedded')"
   ]
  },
  {
   "cell_type": "markdown",
   "metadata": {},
   "source": [
    "Updating the predict fuction for embedding models"
   ]
  },
  {
   "cell_type": "code",
   "execution_count": 188,
   "metadata": {},
   "outputs": [],
   "source": [
    "# Plot a color image.\n",
    "def plot_rgb_emb(rgb):\n",
    "    data = [rgb]\n",
    "    plt.figure(figsize=(2,2))\n",
    "    plt.imshow(data, interpolation='nearest')\n",
    "    plt.show()\n",
    "\n",
    "def predict_n_emb(n, name, num_classes, maxlen, model):\n",
    "    padded = tokens_ngram_generator(n, [name],  maxlen)\n",
    "    pred = model.predict(padded.reshape(1,maxlen))\n",
    "    r, g, b = pred[0][0], pred[0][1], pred[0][2]\n",
    "    print(name + ',', 'R,G,B:', r,g,b)\n",
    "    plot_rgb_emb(pred)  "
   ]
  },
  {
   "cell_type": "code",
   "execution_count": 189,
   "metadata": {},
   "outputs": [],
   "source": [
    "model_emb = load_model('model_emb.h5')\n",
    "model_emb.load_weights(\"model_emb_params.h5\")"
   ]
  },
  {
   "cell_type": "code",
   "execution_count": 78,
   "metadata": {},
   "outputs": [
    {
     "name": "stdout",
     "output_type": "stream",
     "text": [
      "blue, R,G,B: 0.2775743 0.40416342 0.61653286\n"
     ]
    },
    {
     "data": {
      "image/png": "[encoded data removed]",
      "text/plain": [
       "<Figure size 144x144 with 1 Axes>"
      ]
     },
     "metadata": {
      "needs_background": "light"
     },
     "output_type": "display_data"
    },
    {
     "name": "stdout",
     "output_type": "stream",
     "text": [
      "dark blue, R,G,B: 0.08565107 0.18510392 0.4893228\n"
     ]
    },
    {
     "data": {
      "image/png": "[encoded data removed]",
      "text/plain": [
       "<Figure size 144x144 with 1 Axes>"
      ]
     },
     "metadata": {
      "needs_background": "light"
     },
     "output_type": "display_data"
    },
    {
     "name": "stdout",
     "output_type": "stream",
     "text": [
      "light blue, R,G,B: 0.5244903 0.6592218 0.8314103\n"
     ]
    },
    {
     "data": {
      "image/png": "[encoded data removed]",
      "text/plain": [
       "<Figure size 144x144 with 1 Axes>"
      ]
     },
     "metadata": {
      "needs_background": "light"
     },
     "output_type": "display_data"
    }
   ],
   "source": [
    "predict_n_emb(2, 'blue', 728, 30, model_emb)\n",
    "predict_n_emb(2, 'dark blue', 728, 30, model_emb)\n",
    "predict_n_emb(2, 'light blue', 728, 30, model_emb)"
   ]
  },
  {
   "cell_type": "code",
   "execution_count": 240,
   "metadata": {},
   "outputs": [
    {
     "name": "stdout",
     "output_type": "stream",
     "text": [
      "sky, R,G,B: 0.73684347 0.7606193 0.71285933\n"
     ]
    },
    {
     "data": {
      "image/png": "[encoded data removed]",
      "text/plain": [
       "<Figure size 144x144 with 1 Axes>"
      ]
     },
     "metadata": {
      "needs_background": "light"
     },
     "output_type": "display_data"
    }
   ],
   "source": [
    "predict_n_emb(2, 'sky', 728, 30, model_emb)"
   ]
  },
  {
   "cell_type": "markdown",
   "metadata": {},
   "source": [
    "Thanks to the embedding layer I tried a bigger dimensionality with a trigram word decomposition. Again I set the maxlen to 30. The number of classes rises to 19618."
   ]
  },
  {
   "cell_type": "code",
   "execution_count": 190,
   "metadata": {},
   "outputs": [
    {
     "data": {
      "text/plain": [
       "(14157, 30)"
      ]
     },
     "execution_count": 190,
     "metadata": {},
     "output_type": "execute_result"
    }
   ],
   "source": [
    "corpus = list(names.values)\n",
    "padded_tok3 = tokens_ngram_generator(3, corpus, 30)\n",
    "\n",
    "padded_tok3.shape"
   ]
  },
  {
   "cell_type": "code",
   "execution_count": 191,
   "metadata": {},
   "outputs": [
    {
     "data": {
      "text/plain": [
       "19618"
      ]
     },
     "execution_count": 191,
     "metadata": {},
     "output_type": "execute_result"
    }
   ],
   "source": [
    "maxlen = 30\n",
    "one_hot_names = np_utils.to_categorical(padded_tok3)\n",
    "num_classes_tri = one_hot_names.shape[-1]\n",
    "num_classes_tri"
   ]
  },
  {
   "cell_type": "code",
   "execution_count": null,
   "metadata": {},
   "outputs": [],
   "source": [
    "checkpoint = ModelCheckpoint(\"model_emb3_params.h5\", monitor = \"val_loss\", verbose = 1, save_best_only = True)\n",
    "early_stop = EarlyStopping(patience=20)\n",
    "\n",
    "hist_emb3 = model_emb3.fit(padded_tok_tri, normalized_values, epochs = 100, validation_split = 0.1, callbacks = [checkpoint, early_stop])\n",
    "\n"
   ]
  },
  {
   "cell_type": "code",
   "execution_count": 197,
   "metadata": {},
   "outputs": [
    {
     "data": {
      "image/png": "[encoded data removed]",
      "text/plain": [
       "<Figure size 432x288 with 1 Axes>"
      ]
     },
     "metadata": {
      "needs_background": "light"
     },
     "output_type": "display_data"
    },
    {
     "data": {
      "image/png": "[encoded data removed]",
      "text/plain": [
       "<Figure size 432x288 with 1 Axes>"
      ]
     },
     "metadata": {
      "needs_background": "light"
     },
     "output_type": "display_data"
    }
   ],
   "source": [
    "hist_emb3 = open('hist_emb_3.json').read()\n",
    "hist_emb3 = eval(hist_emb3)\n",
    "hist_plot(hist_emb3)"
   ]
  },
  {
   "cell_type": "markdown",
   "metadata": {},
   "source": [
    "We improved a litlle bit more the accuracy."
   ]
  },
  {
   "cell_type": "code",
   "execution_count": 198,
   "metadata": {
    "scrolled": false
   },
   "outputs": [
    {
     "data": {
      "image/png": "[encoded data removed]",
      "text/plain": [
       "<Figure size 432x288 with 1 Axes>"
      ]
     },
     "metadata": {
      "needs_background": "light"
     },
     "output_type": "display_data"
    }
   ],
   "source": [
    "acc_comparison(hist_emb3, hist_emb, 'Tri Embedded', 'Bi Embedded')"
   ]
  },
  {
   "cell_type": "code",
   "execution_count": 192,
   "metadata": {},
   "outputs": [],
   "source": [
    "model_emb3 = load_model('model_emb_3.h5')\n",
    "model_emb3.load_weights(\"model_emb3_params.h5\")"
   ]
  },
  {
   "cell_type": "code",
   "execution_count": 193,
   "metadata": {},
   "outputs": [
    {
     "name": "stdout",
     "output_type": "stream",
     "text": [
      "blue, R,G,B: 0.42242476 0.52171534 0.61463475\n"
     ]
    },
    {
     "data": {
      "image/png": "[encoded data removed]",
      "text/plain": [
       "<Figure size 144x144 with 1 Axes>"
      ]
     },
     "metadata": {
      "needs_background": "light"
     },
     "output_type": "display_data"
    },
    {
     "name": "stdout",
     "output_type": "stream",
     "text": [
      "dark blue, R,G,B: 0.11906502 0.21899593 0.3936016\n"
     ]
    },
    {
     "data": {
      "image/png": "[encoded data removed]",
      "text/plain": [
       "<Figure size 144x144 with 1 Axes>"
      ]
     },
     "metadata": {
      "needs_background": "light"
     },
     "output_type": "display_data"
    },
    {
     "name": "stdout",
     "output_type": "stream",
     "text": [
      "light blue, R,G,B: 0.5010363 0.6775973 0.75584924\n"
     ]
    },
    {
     "data": {
      "image/png": "[encoded data removed]",
      "text/plain": [
       "<Figure size 144x144 with 1 Axes>"
      ]
     },
     "metadata": {
      "needs_background": "light"
     },
     "output_type": "display_data"
    }
   ],
   "source": [
    "predict_n_emb(3, 'blue', 19618, 30, model_emb3)\n",
    "predict_n_emb(3, 'dark blue', 19618, 30, model_emb3)\n",
    "predict_n_emb(3, 'light blue', 19618, 30, model_emb3)"
   ]
  },
  {
   "cell_type": "code",
   "execution_count": 42,
   "metadata": {},
   "outputs": [
    {
     "name": "stdout",
     "output_type": "stream",
     "text": [
      "purple, R,G,B: 0.49583295 0.3566324 0.5678935\n"
     ]
    },
    {
     "data": {
      "image/png": "[encoded data removed]",
      "text/plain": [
       "<Figure size 144x144 with 1 Axes>"
      ]
     },
     "metadata": {
      "needs_background": "light"
     },
     "output_type": "display_data"
    },
    {
     "name": "stdout",
     "output_type": "stream",
     "text": [
      "water melon, R,G,B: 0.835485 0.7168216 0.6826312\n"
     ]
    },
    {
     "data": {
      "image/png": "[encoded data removed]",
      "text/plain": [
       "<Figure size 144x144 with 1 Axes>"
      ]
     },
     "metadata": {
      "needs_background": "light"
     },
     "output_type": "display_data"
    },
    {
     "name": "stdout",
     "output_type": "stream",
     "text": [
      "tear, R,G,B: 0.5768361 0.6765267 0.6199314\n"
     ]
    },
    {
     "data": {
      "image/png": "[encoded data removed]",
      "text/plain": [
       "<Figure size 144x144 with 1 Axes>"
      ]
     },
     "metadata": {
      "needs_background": "light"
     },
     "output_type": "display_data"
    }
   ],
   "source": [
    "predict_n_emb(3, 'purple', 19618, 30, model_emb3)\n",
    "predict_n_emb(3, 'water melon', 19618, 30, model_emb3)\n",
    "predict_n_emb(3, 'tear', 19618, 30, model_emb3)"
   ]
  },
  {
   "cell_type": "code",
   "execution_count": 199,
   "metadata": {},
   "outputs": [
    {
     "name": "stdout",
     "output_type": "stream",
     "text": [
      "pablo, R,G,B: 0.6521207 0.41608447 0.42412025\n"
     ]
    },
    {
     "data": {
      "image/png": "[encoded data removed]",
      "text/plain": [
       "<Figure size 144x144 with 1 Axes>"
      ]
     },
     "metadata": {
      "needs_background": "light"
     },
     "output_type": "display_data"
    }
   ],
   "source": [
    "predict_n_emb(3, 'pablo', 19618, 30, model_emb3)\n"
   ]
  },
  {
   "cell_type": "markdown",
   "metadata": {},
   "source": [
    "I try to improve the model accuracy adding bidirectional layers to the last model."
   ]
  },
  {
   "cell_type": "code",
   "execution_count": 36,
   "metadata": {},
   "outputs": [],
   "source": [
    "def LSTM_model_emb_bidir(num_classes, emb_dim):    \n",
    "    from tensorflow.keras import layers\n",
    "    # Input for variable-length sequences of integers\n",
    "    inputs = keras.Input(shape=(None,), dtype=\"int32\")\n",
    "    # Embed each integer in a 100-dimensional vector\n",
    "    x = layers.Embedding(num_classes, emb_dim)(inputs)\n",
    "    # Add 2 LSTMs\n",
    "    x = layers.Bidirectional(layers.LSTM(256, return_sequences=True))(x)\n",
    "    x = layers.Dropout(0.5)(x)\n",
    "    x = layers.Bidirectional(layers.LSTM(128, return_sequences=True))(x)\n",
    "    x = layers.Dropout(0.4)(x)\n",
    "    x = layers.Bidirectional(layers.LSTM(64))(x)\n",
    "    x = layers.Dense(128)(x)\n",
    "    x = layers.Dropout(0.3)(x)\n",
    "    # Add a classifier\n",
    "    outputs = layers.Dense(3, activation=\"sigmoid\")(x)\n",
    "    model = keras.Model(inputs, outputs)\n",
    "    model.compile(optimizer='adam', loss='mse', metrics=['acc'])\n",
    "    return model"
   ]
  },
  {
   "cell_type": "code",
   "execution_count": 41,
   "metadata": {},
   "outputs": [
    {
     "name": "stdout",
     "output_type": "stream",
     "text": [
      "Model: \"functional_3\"\n",
      "_________________________________________________________________\n",
      "Layer (type)                 Output Shape              Param #   \n",
      "=================================================================\n",
      "input_2 (InputLayer)         [(None, None)]            0         \n",
      "_________________________________________________________________\n",
      "embedding_1 (Embedding)      (None, None, 100)         1961800   \n",
      "_________________________________________________________________\n",
      "bidirectional (Bidirectional (None, None, 512)         731136    \n",
      "_________________________________________________________________\n",
      "dropout_3 (Dropout)          (None, None, 512)         0         \n",
      "_________________________________________________________________\n",
      "bidirectional_1 (Bidirection (None, None, 256)         656384    \n",
      "_________________________________________________________________\n",
      "dropout_4 (Dropout)          (None, None, 256)         0         \n",
      "_________________________________________________________________\n",
      "bidirectional_2 (Bidirection (None, 128)               164352    \n",
      "_________________________________________________________________\n",
      "dense_8 (Dense)              (None, 128)               16512     \n",
      "_________________________________________________________________\n",
      "dropout_5 (Dropout)          (None, 128)               0         \n",
      "_________________________________________________________________\n",
      "dense_9 (Dense)              (None, 3)                 387       \n",
      "=================================================================\n",
      "Total params: 3,530,571\n",
      "Trainable params: 3,530,571\n",
      "Non-trainable params: 0\n",
      "_________________________________________________________________\n"
     ]
    }
   ],
   "source": [
    "model_emb_tri_bidir = LSTM_model_emb_bidir(num_classes_tri, 100)\n",
    "model_emb_tri_bidir.summary()"
   ]
  },
  {
   "cell_type": "code",
   "execution_count": 201,
   "metadata": {},
   "outputs": [
    {
     "data": {
      "image/png": "[encoded data removed]",
      "text/plain": [
       "<Figure size 432x288 with 1 Axes>"
      ]
     },
     "metadata": {
      "needs_background": "light"
     },
     "output_type": "display_data"
    },
    {
     "data": {
      "image/png": "[encoded data removed]",
      "text/plain": [
       "<Figure size 432x288 with 1 Axes>"
      ]
     },
     "metadata": {
      "needs_background": "light"
     },
     "output_type": "display_data"
    }
   ],
   "source": [
    "hist_emb3_bidir = open('hist_emb_tri_bidir.json').read()\n",
    "hist_emb3_bidir = eval(hist_emb3_bidir)\n",
    "hist_plot(hist_emb3_bidir)"
   ]
  },
  {
   "cell_type": "markdown",
   "metadata": {},
   "source": [
    "But, as we can see, it seems that it does'nt change a lot. Overfitting is till very big..."
   ]
  },
  {
   "cell_type": "code",
   "execution_count": 202,
   "metadata": {
    "scrolled": true
   },
   "outputs": [
    {
     "data": {
      "image/png": "[encoded data removed]",
      "text/plain": [
       "<Figure size 432x288 with 1 Axes>"
      ]
     },
     "metadata": {
      "needs_background": "light"
     },
     "output_type": "display_data"
    }
   ],
   "source": [
    "acc_comparison(hist_emb3, hist_emb3_bidir, 'Tri', 'Tri Bidir')"
   ]
  },
  {
   "cell_type": "markdown",
   "metadata": {},
   "source": [
    "...and so i try to augment data, simply looking for bigger and different dataset in the web."
   ]
  },
  {
   "cell_type": "code",
   "execution_count": 200,
   "metadata": {},
   "outputs": [
    {
     "data": {
      "text/html": [
       "<div>\n",
       "<style scoped>\n",
       "    .dataframe tbody tr th:only-of-type {\n",
       "        vertical-align: middle;\n",
       "    }\n",
       "\n",
       "    .dataframe tbody tr th {\n",
       "        vertical-align: top;\n",
       "    }\n",
       "\n",
       "    .dataframe thead th {\n",
       "        text-align: right;\n",
       "    }\n",
       "</style>\n",
       "<table border=\"1\" class=\"dataframe\">\n",
       "  <thead>\n",
       "    <tr style=\"text-align: right;\">\n",
       "      <th></th>\n",
       "      <th>name</th>\n",
       "      <th>hex</th>\n",
       "    </tr>\n",
       "  </thead>\n",
       "  <tbody>\n",
       "    <tr>\n",
       "      <th>0</th>\n",
       "      <td>100 Mph</td>\n",
       "      <td>#c93f38</td>\n",
       "    </tr>\n",
       "    <tr>\n",
       "      <th>1</th>\n",
       "      <td>18th Century Green</td>\n",
       "      <td>#a59344</td>\n",
       "    </tr>\n",
       "    <tr>\n",
       "      <th>2</th>\n",
       "      <td>1975 Earth Red</td>\n",
       "      <td>#7b463b</td>\n",
       "    </tr>\n",
       "    <tr>\n",
       "      <th>3</th>\n",
       "      <td>1989 Miami Hotline</td>\n",
       "      <td>#dd3366</td>\n",
       "    </tr>\n",
       "    <tr>\n",
       "      <th>4</th>\n",
       "      <td>20000 Leagues Under the Sea</td>\n",
       "      <td>#191970</td>\n",
       "    </tr>\n",
       "  </tbody>\n",
       "</table>\n",
       "</div>"
      ],
      "text/plain": [
       "                          name      hex\n",
       "0                      100 Mph  #c93f38\n",
       "1           18th Century Green  #a59344\n",
       "2               1975 Earth Red  #7b463b\n",
       "3           1989 Miami Hotline  #dd3366\n",
       "4  20000 Leagues Under the Sea  #191970"
      ]
     },
     "execution_count": 200,
     "metadata": {},
     "output_type": "execute_result"
    }
   ],
   "source": [
    "data_2 = pd.read_csv('colornames.csv')\n",
    "data_2.head()"
   ]
  },
  {
   "cell_type": "markdown",
   "metadata": {},
   "source": [
    "Here some function to preprocess the data"
   ]
  },
  {
   "cell_type": "code",
   "execution_count": 201,
   "metadata": {},
   "outputs": [
    {
     "data": {
      "text/plain": [
       "(38538, 4)"
      ]
     },
     "execution_count": 201,
     "metadata": {},
     "output_type": "execute_result"
    }
   ],
   "source": [
    "#dropping number\n",
    "def thereisnumber(text):\n",
    "    import re\n",
    "    if re.findall(r\"\\d\", text):\n",
    "        return False\n",
    "    else:\n",
    "        return True \n",
    "\n",
    "#preprocessing\n",
    "def preproc(df):\n",
    "    \n",
    "    from PIL import ImageColor\n",
    "    df_augm = df[pd.Series([thereisnumber(text) for text in df.name])].reset_index(drop=True)\n",
    "    df_augm['name'] = df_augm['name'].apply(lambda x: x.lower())\n",
    "    df_augm['rgb'] = df_augm['hex'].apply(lambda x: ImageColor.getcolor(x, \"RGB\"))\n",
    "    df_augm['red'] = df_augm['rgb'].apply(lambda x: x[0])\n",
    "    df_augm['green'] = df_augm['rgb'].apply(lambda x: x[1])\n",
    "    df_augm['blue'] = df_augm['rgb'].apply(lambda x: x[2])\n",
    "    df_augm = df_augm[['name', 'red', 'green', 'blue']]\n",
    "    return df_augm \n",
    "\n",
    "#concatenate the two dataframe, dropping duplicated colors\n",
    "def linkdrop(df1,df2):\n",
    "    full = pd.concat([df1, df2])\n",
    "    idx_todrop = full[full.duplicated()].index\n",
    "    full = full.drop(idx_todrop)\n",
    "    return full\n",
    "\n",
    "\n",
    "\n",
    "data_aug = linkdrop(preproc(data_2), data)\n",
    "data_aug.shape"
   ]
  },
  {
   "cell_type": "code",
   "execution_count": 202,
   "metadata": {},
   "outputs": [
    {
     "data": {
      "text/plain": [
       "((38538, 30), 19643)"
      ]
     },
     "execution_count": 202,
     "metadata": {},
     "output_type": "execute_result"
    }
   ],
   "source": [
    "normalized_values_aug = np.column_stack([norm(data_aug[\"red\"]), norm(data_aug[\"green\"]), norm(data_aug[\"blue\"])])\n",
    "names_aug = data_aug[\"name\"]\n",
    "corpus_aug = list(names_aug.values)\n",
    "maxlen = 30\n",
    "padded_tok_tri_aug = tokens_ngram_generator(3, corpus_aug, 30)\n",
    "num_classes_tri_aug= len(dictionary_n(3))\n",
    "padded_tok_tri_aug.shape, num_classes_tri_aug"
   ]
  },
  {
   "cell_type": "markdown",
   "metadata": {},
   "source": [
    "I run the last LSTM architecture with this data. And this time the accuracy improve much more."
   ]
  },
  {
   "cell_type": "code",
   "execution_count": null,
   "metadata": {},
   "outputs": [],
   "source": [
    "model_emb_tri_bidir_aug = LSTM_model_emb_bidir(num_classes_tri, 100)\n",
    "\n",
    "checkpoint = ModelCheckpoint(\"model_emb3_bidir_aug_params.h5\", monitor = \"val_loss\", verbose = 1, save_best_only = True)\n",
    "early_stop = EarlyStopping(patience=20)\n",
    "\n",
    "hist_emb3_bidir_aug = model_emb_tri_bidir_aug.fit(padded_tok_tri_aug, normalized_values_aug, epochs = 100, validation_split = 0.1, callbacks = [checkpoint, early_stop])\n"
   ]
  },
  {
   "cell_type": "code",
   "execution_count": 203,
   "metadata": {},
   "outputs": [
    {
     "data": {
      "image/png": "[encoded data removed]",
      "text/plain": [
       "<Figure size 432x288 with 1 Axes>"
      ]
     },
     "metadata": {
      "needs_background": "light"
     },
     "output_type": "display_data"
    },
    {
     "data": {
      "image/png": "[encoded data removed]",
      "text/plain": [
       "<Figure size 432x288 with 1 Axes>"
      ]
     },
     "metadata": {
      "needs_background": "light"
     },
     "output_type": "display_data"
    }
   ],
   "source": [
    "hist_emb3_bidir_aug = open('hist_emb3_bidir_aug.json').read()\n",
    "hist_emb3_bidir_aug = eval(hist_emb3_bidir_aug)\n",
    "hist_plot(hist_emb3_bidir_aug)"
   ]
  },
  {
   "cell_type": "code",
   "execution_count": 204,
   "metadata": {},
   "outputs": [
    {
     "data": {
      "image/png": "[encoded data removed]",
      "text/plain": [
       "<Figure size 432x288 with 1 Axes>"
      ]
     },
     "metadata": {
      "needs_background": "light"
     },
     "output_type": "display_data"
    }
   ],
   "source": [
    "acc_comparison(hist_emb3_bidir_aug, hist_emb3_bidir, 'Tri Augmented', 'Tri Bidir')"
   ]
  },
  {
   "cell_type": "markdown",
   "metadata": {},
   "source": [
    "Reaching the best value of accuracy for my experiment."
   ]
  },
  {
   "cell_type": "code",
   "execution_count": 167,
   "metadata": {},
   "outputs": [
    {
     "name": "stdout",
     "output_type": "stream",
     "text": [
      "The best value of the accuracy is 84.41%\n"
     ]
    }
   ],
   "source": [
    "print('The best value of the accuracy is {}%'.format(round(max(hist_emb3_bidir_aug['acc'])*100,2)))"
   ]
  },
  {
   "cell_type": "code",
   "execution_count": 203,
   "metadata": {},
   "outputs": [],
   "source": [
    "model_emb3_bidir_aug = load_model('model_emb3_bidir_aug.h5')\n",
    "model_emb3_bidir_aug.load_weights(\"model_emb3_bidir_aug_params.h5\")"
   ]
  },
  {
   "cell_type": "code",
   "execution_count": 124,
   "metadata": {},
   "outputs": [
    {
     "name": "stdout",
     "output_type": "stream",
     "text": [
      "red, R,G,B: 0.9811773 0.06457707 0.15176427\n"
     ]
    },
    {
     "data": {
      "image/png": "[encoded data removed]",
      "text/plain": [
       "<Figure size 144x144 with 1 Axes>"
      ]
     },
     "metadata": {
      "needs_background": "light"
     },
     "output_type": "display_data"
    },
    {
     "name": "stdout",
     "output_type": "stream",
     "text": [
      "blue, R,G,B: 0.06794223 0.19151956 0.7426721\n"
     ]
    },
    {
     "data": {
      "image/png": "[encoded data removed]",
      "text/plain": [
       "<Figure size 144x144 with 1 Axes>"
      ]
     },
     "metadata": {
      "needs_background": "light"
     },
     "output_type": "display_data"
    },
    {
     "name": "stdout",
     "output_type": "stream",
     "text": [
      "green, R,G,B: 0.16970521 0.8152188 0.26846516\n"
     ]
    },
    {
     "data": {
      "image/png": "[encoded data removed]",
      "text/plain": [
       "<Figure size 144x144 with 1 Axes>"
      ]
     },
     "metadata": {
      "needs_background": "light"
     },
     "output_type": "display_data"
    }
   ],
   "source": [
    "predict_n_emb(3, 'red', 19644, 30, model_emb3_bidir_aug)\n",
    "predict_n_emb(3, 'blue', 19644, 30, model_emb3_bidir_aug)\n",
    "predict_n_emb(3, 'green', 19644, 30, model_emb3_bidir_aug)\n"
   ]
  },
  {
   "cell_type": "code",
   "execution_count": 85,
   "metadata": {},
   "outputs": [
    {
     "name": "stdout",
     "output_type": "stream",
     "text": [
      "forest, R,G,B: 0.16083166 0.35939273 0.24559149\n"
     ]
    },
    {
     "data": {
      "image/png": "[encoded data removed]",
      "text/plain": [
       "<Figure size 144x144 with 1 Axes>"
      ]
     },
     "metadata": {
      "needs_background": "light"
     },
     "output_type": "display_data"
    },
    {
     "name": "stdout",
     "output_type": "stream",
     "text": [
      "poo, R,G,B: 0.6515248 0.5712687 0.08123383\n"
     ]
    },
    {
     "data": {
      "image/png": "[encoded data removed]",
      "text/plain": [
       "<Figure size 144x144 with 1 Axes>"
      ]
     },
     "metadata": {
      "needs_background": "light"
     },
     "output_type": "display_data"
    },
    {
     "name": "stdout",
     "output_type": "stream",
     "text": [
      "hello kitty, R,G,B: 0.8851818 0.7395592 0.7803867\n"
     ]
    },
    {
     "data": {
      "image/png": "[encoded data removed]",
      "text/plain": [
       "<Figure size 144x144 with 1 Axes>"
      ]
     },
     "metadata": {
      "needs_background": "light"
     },
     "output_type": "display_data"
    },
    {
     "name": "stdout",
     "output_type": "stream",
     "text": [
      "tandori spice, R,G,B: 0.72108066 0.48979092 0.34714007\n"
     ]
    },
    {
     "data": {
      "image/png": "[encoded data removed]",
      "text/plain": [
       "<Figure size 144x144 with 1 Axes>"
      ]
     },
     "metadata": {
      "needs_background": "light"
     },
     "output_type": "display_data"
    }
   ],
   "source": [
    "predict_n_emb(3, 'forest', 19644, 30, model_emb3_bidir_aug)\n",
    "predict_n_emb(3, 'poo', 19644, 30, model_emb3_bidir_aug)\n",
    "predict_n_emb(3, 'hello kitty', 19644, 30, model_emb3_bidir_aug)\n",
    "predict_n_emb(3, 'tandori spice', 19644, 30, model_emb3_bidir_aug)"
   ]
  },
  {
   "cell_type": "code",
   "execution_count": 216,
   "metadata": {},
   "outputs": [
    {
     "name": "stdout",
     "output_type": "stream",
     "text": [
      "yellow red, R,G,B: 0.93355393 0.5332791 0.13352716\n"
     ]
    },
    {
     "data": {
      "image/png": "[encoded data removed]",
      "text/plain": [
       "<Figure size 144x144 with 1 Axes>"
      ]
     },
     "metadata": {
      "needs_background": "light"
     },
     "output_type": "display_data"
    },
    {
     "name": "stdout",
     "output_type": "stream",
     "text": [
      "blue red, R,G,B: 0.4940268 0.22243878 0.38835147\n"
     ]
    },
    {
     "data": {
      "image/png": "[encoded data removed]",
      "text/plain": [
       "<Figure size 144x144 with 1 Axes>"
      ]
     },
     "metadata": {
      "needs_background": "light"
     },
     "output_type": "display_data"
    },
    {
     "name": "stdout",
     "output_type": "stream",
     "text": [
      "blue green, R,G,B: 0.21037933 0.5685106 0.51409525\n"
     ]
    },
    {
     "data": {
      "image/png": "[encoded data removed]",
      "text/plain": [
       "<Figure size 144x144 with 1 Axes>"
      ]
     },
     "metadata": {
      "needs_background": "light"
     },
     "output_type": "display_data"
    }
   ],
   "source": [
    "predict_n_emb(3, 'yellow red', 19618, 30, model_emb3)\n",
    "predict_n_emb(3, 'blue red', 19618, 30, model_emb3)\n",
    "predict_n_emb(3, 'blue green', 19618, 30, model_emb3)\n"
   ]
  },
  {
   "cell_type": "code",
   "execution_count": 219,
   "metadata": {},
   "outputs": [
    {
     "name": "stdout",
     "output_type": "stream",
     "text": [
      "red army, R,G,B: 0.6569305 0.25151736 0.29181758\n"
     ]
    },
    {
     "data": {
      "image/png": "[encoded data removed]",
      "text/plain": [
       "<Figure size 144x144 with 1 Axes>"
      ]
     },
     "metadata": {
      "needs_background": "light"
     },
     "output_type": "display_data"
    }
   ],
   "source": [
    "predict_n_emb(3, 'red army', 19618, 30, model_emb3)\n"
   ]
  },
  {
   "cell_type": "markdown",
   "metadata": {},
   "source": [
    "Here I tried a different strategy using the google pretrained word2vec. Word vectors can be downloaded at this link: https://drive.google.com/file/d/0B7XkCwpI5KDYNlNUTTlSS21pQmM/edit?usp=sharing"
   ]
  },
  {
   "cell_type": "code",
   "execution_count": 223,
   "metadata": {},
   "outputs": [
    {
     "data": {
      "text/plain": [
       "(3000000, 300)"
      ]
     },
     "execution_count": 223,
     "metadata": {},
     "output_type": "execute_result"
    }
   ],
   "source": [
    "import gensim\n",
    "word2vec = gensim.models.KeyedVectors.load_word2vec_format(\"GoogleNews-vectors-negative300.bin\", binary = True)\n",
    "(total_tokens, dim) = word2vec.vectors.shape\n",
    "(total_tokens, dim)"
   ]
  },
  {
   "cell_type": "markdown",
   "metadata": {},
   "source": [
    "The input is made by a fixed dimension tensor $6 \\times 300$. We set that each color name has 6 words as maximum value, we raplace words that don't exist in the embedding matrix with a general mean."
   ]
  },
  {
   "cell_type": "code",
   "execution_count": 224,
   "metadata": {},
   "outputs": [],
   "source": [
    "avg_vec = np.mean(word2vec.vectors, axis = 0)\n",
    "empty_vec = np.zeros(dim)\n",
    "max_tokens = max([len(name.split()) for name in data_aug['name']])"
   ]
  },
  {
   "cell_type": "code",
   "execution_count": 225,
   "metadata": {},
   "outputs": [],
   "source": [
    "def preproc_word2vec(df):    \n",
    "    \n",
    "    X_train = []\n",
    "\n",
    "    for name in df['name']:\n",
    "        tokens = name.split()\n",
    "        X = []\n",
    "        i = 0\n",
    "\n",
    "        for token in tokens:\n",
    "            if token in word2vec:\n",
    "                X.append(word2vec[token])\n",
    "            else:\n",
    "                X.append(avg_vec)\n",
    "            i += 1\n",
    "\n",
    "        while i < max_tokens:\n",
    "            X.append(empty_vec)\n",
    "            i += 1\n",
    "\n",
    "        X_train.append(np.array(X))\n",
    "    return np.array(X_train)\n"
   ]
  },
  {
   "cell_type": "code",
   "execution_count": 226,
   "metadata": {},
   "outputs": [
    {
     "data": {
      "text/plain": [
       "(38538, 6, 300)"
      ]
     },
     "execution_count": 226,
     "metadata": {},
     "output_type": "execute_result"
    }
   ],
   "source": [
    "pre_trained = preproc_word2vec(data_aug)\n",
    "pre_trained.shape"
   ]
  },
  {
   "cell_type": "markdown",
   "metadata": {},
   "source": [
    "We train a simple convolutional architecture."
   ]
  },
  {
   "cell_type": "code",
   "execution_count": 51,
   "metadata": {},
   "outputs": [],
   "source": [
    "def model_CNN(max_tokens, dim):\n",
    "    \n",
    "    model = Sequential()\n",
    "    model.add(Conv1D(128, 1, input_shape = (max_tokens, dim), activation = \"tanh\"))\n",
    "    model.add(GlobalMaxPooling1D())\n",
    "    model.add(Dropout(0.5))\n",
    "    model.add(Dense(3))\n",
    "\n",
    "    model.compile(optimizer='adam', loss='mse', metrics=['acc'])\n",
    "    return model"
   ]
  },
  {
   "cell_type": "code",
   "execution_count": 52,
   "metadata": {},
   "outputs": [
    {
     "name": "stdout",
     "output_type": "stream",
     "text": [
      "Model: \"sequential_3\"\n",
      "_________________________________________________________________\n",
      "Layer (type)                 Output Shape              Param #   \n",
      "=================================================================\n",
      "conv1d (Conv1D)              (None, 6, 128)            38528     \n",
      "_________________________________________________________________\n",
      "global_max_pooling1d (Global (None, 128)               0         \n",
      "_________________________________________________________________\n",
      "dropout_6 (Dropout)          (None, 128)               0         \n",
      "_________________________________________________________________\n",
      "dense_10 (Dense)             (None, 3)                 387       \n",
      "=================================================================\n",
      "Total params: 38,915\n",
      "Trainable params: 38,915\n",
      "Non-trainable params: 0\n",
      "_________________________________________________________________\n"
     ]
    }
   ],
   "source": [
    "from keras.layers import Conv1D, GlobalMaxPooling1D\n",
    "\n",
    "model_CNN =  model_CNN(max_tokens, dim)\n",
    "model_CNN.summary()"
   ]
  },
  {
   "cell_type": "code",
   "execution_count": 56,
   "metadata": {},
   "outputs": [
    {
     "name": "stdout",
     "output_type": "stream",
     "text": [
      "Epoch 1/100\n",
      "1080/1084 [============================>.] - ETA: 0s - loss: 0.0619 - acc: 0.5698\n",
      "Epoch 00001: val_loss improved from inf to 0.04092, saving model to model_CNN_params.h5\n",
      "1084/1084 [==============================] - 3s 3ms/step - loss: 0.0619 - acc: 0.5699 - val_loss: 0.0409 - val_acc: 0.6902\n",
      "Epoch 2/100\n",
      "1078/1084 [============================>.] - ETA: 0s - loss: 0.0453 - acc: 0.6488\n",
      "Epoch 00002: val_loss improved from 0.04092 to 0.03560, saving model to model_CNN_params.h5\n",
      "1084/1084 [==============================] - 3s 3ms/step - loss: 0.0453 - acc: 0.6489 - val_loss: 0.0356 - val_acc: 0.6930\n",
      "Epoch 3/100\n",
      "1077/1084 [============================>.] - ETA: 0s - loss: 0.0425 - acc: 0.6627- ETA: 0s - loss: 0.0425 - acc: 0.662 - ETA: 0s - loss: 0.0425 - acc: 0.6\n",
      "Epoch 00003: val_loss improved from 0.03560 to 0.03533, saving model to model_CNN_params.h5\n",
      "1084/1084 [==============================] - 4s 3ms/step - loss: 0.0425 - acc: 0.6627 - val_loss: 0.0353 - val_acc: 0.7084\n",
      "Epoch 4/100\n",
      "1076/1084 [============================>.] - ETA: 0s - loss: 0.0412 - acc: 0.6733\n",
      "Epoch 00004: val_loss improved from 0.03533 to 0.03407, saving model to model_CNN_params.h5\n",
      "1084/1084 [==============================] - 3s 3ms/step - loss: 0.0412 - acc: 0.6732 - val_loss: 0.0341 - val_acc: 0.7164\n",
      "Epoch 5/100\n",
      "1073/1084 [============================>.] - ETA: 0s - loss: 0.0402 - acc: 0.6774\n",
      "Epoch 00005: val_loss improved from 0.03407 to 0.03354, saving model to model_CNN_params.h5\n",
      "1084/1084 [==============================] - 4s 3ms/step - loss: 0.0402 - acc: 0.6772 - val_loss: 0.0335 - val_acc: 0.6975\n",
      "Epoch 6/100\n",
      "1068/1084 [============================>.] - ETA: 0s - loss: 0.0396 - acc: 0.6776\n",
      "Epoch 00006: val_loss improved from 0.03354 to 0.03320, saving model to model_CNN_params.h5\n",
      "1084/1084 [==============================] - 3s 3ms/step - loss: 0.0396 - acc: 0.6774 - val_loss: 0.0332 - val_acc: 0.7102\n",
      "Epoch 7/100\n",
      "1067/1084 [============================>.] - ETA: 0s - loss: 0.0389 - acc: 0.6796\n",
      "Epoch 00007: val_loss did not improve from 0.03320\n",
      "1084/1084 [==============================] - 4s 3ms/step - loss: 0.0390 - acc: 0.6797 - val_loss: 0.0340 - val_acc: 0.7195\n",
      "Epoch 8/100\n",
      "1065/1084 [============================>.] - ETA: 0s - loss: 0.0384 - acc: 0.6840\n",
      "Epoch 00008: val_loss improved from 0.03320 to 0.03298, saving model to model_CNN_params.h5\n",
      "1084/1084 [==============================] - 3s 3ms/step - loss: 0.0384 - acc: 0.6844 - val_loss: 0.0330 - val_acc: 0.7213\n",
      "Epoch 9/100\n",
      "1080/1084 [============================>.] - ETA: 0s - loss: 0.0382 - acc: 0.6843\n",
      "Epoch 00009: val_loss improved from 0.03298 to 0.03255, saving model to model_CNN_params.h5\n",
      "1084/1084 [==============================] - 3s 3ms/step - loss: 0.0382 - acc: 0.6842 - val_loss: 0.0325 - val_acc: 0.7125\n",
      "Epoch 10/100\n",
      "1069/1084 [============================>.] - ETA: 0s - loss: 0.0377 - acc: 0.6847\n",
      "Epoch 00010: val_loss did not improve from 0.03255\n",
      "1084/1084 [==============================] - 3s 3ms/step - loss: 0.0377 - acc: 0.6853 - val_loss: 0.0330 - val_acc: 0.7128\n",
      "Epoch 11/100\n",
      "1075/1084 [============================>.] - ETA: 0s - loss: 0.0374 - acc: 0.6847\n",
      "Epoch 00011: val_loss improved from 0.03255 to 0.03240, saving model to model_CNN_params.h5\n",
      "1084/1084 [==============================] - 4s 4ms/step - loss: 0.0374 - acc: 0.6847 - val_loss: 0.0324 - val_acc: 0.7265\n",
      "Epoch 12/100\n",
      "1073/1084 [============================>.] - ETA: 0s - loss: 0.0370 - acc: 0.6877\n",
      "Epoch 00012: val_loss did not improve from 0.03240\n",
      "1084/1084 [==============================] - 4s 3ms/step - loss: 0.0370 - acc: 0.6876 - val_loss: 0.0324 - val_acc: 0.7068\n",
      "Epoch 13/100\n",
      "1079/1084 [============================>.] - ETA: 0s - loss: 0.0371 - acc: 0.6873\n",
      "Epoch 00013: val_loss improved from 0.03240 to 0.03198, saving model to model_CNN_params.h5\n",
      "1084/1084 [==============================] - 3s 3ms/step - loss: 0.0371 - acc: 0.6875 - val_loss: 0.0320 - val_acc: 0.7208\n",
      "Epoch 14/100\n",
      "1079/1084 [============================>.] - ETA: 0s - loss: 0.0368 - acc: 0.6867\n",
      "Epoch 00014: val_loss did not improve from 0.03198\n",
      "1084/1084 [==============================] - 4s 3ms/step - loss: 0.0368 - acc: 0.6867 - val_loss: 0.0322 - val_acc: 0.7242\n",
      "Epoch 15/100\n",
      "1079/1084 [============================>.] - ETA: 0s - loss: 0.0365 - acc: 0.6919\n",
      "Epoch 00015: val_loss improved from 0.03198 to 0.03177, saving model to model_CNN_params.h5\n",
      "1084/1084 [==============================] - 4s 3ms/step - loss: 0.0365 - acc: 0.6917 - val_loss: 0.0318 - val_acc: 0.7016\n",
      "Epoch 16/100\n",
      "1082/1084 [============================>.] - ETA: 0s - loss: 0.0364 - acc: 0.6953\n",
      "Epoch 00016: val_loss did not improve from 0.03177\n",
      "1084/1084 [==============================] - 4s 3ms/step - loss: 0.0364 - acc: 0.6955 - val_loss: 0.0320 - val_acc: 0.7304\n",
      "Epoch 17/100\n",
      "1076/1084 [============================>.] - ETA: 0s - loss: 0.0364 - acc: 0.6910\n",
      "Epoch 00017: val_loss did not improve from 0.03177\n",
      "1084/1084 [==============================] - 3s 3ms/step - loss: 0.0365 - acc: 0.6910 - val_loss: 0.0319 - val_acc: 0.7180\n",
      "Epoch 18/100\n",
      "1067/1084 [============================>.] - ETA: 0s - loss: 0.0362 - acc: 0.6899\n",
      "Epoch 00018: val_loss did not improve from 0.03177\n",
      "1084/1084 [==============================] - 3s 3ms/step - loss: 0.0362 - acc: 0.6903 - val_loss: 0.0318 - val_acc: 0.7286\n",
      "Epoch 19/100\n",
      "1073/1084 [============================>.] - ETA: 0s - loss: 0.0358 - acc: 0.6924\n",
      "Epoch 00019: val_loss improved from 0.03177 to 0.03160, saving model to model_CNN_params.h5\n",
      "1084/1084 [==============================] - 3s 3ms/step - loss: 0.0358 - acc: 0.6925 - val_loss: 0.0316 - val_acc: 0.7304\n",
      "Epoch 20/100\n",
      "1075/1084 [============================>.] - ETA: 0s - loss: 0.0359 - acc: 0.6901\n",
      "Epoch 00020: val_loss did not improve from 0.03160\n",
      "1084/1084 [==============================] - 3s 3ms/step - loss: 0.0359 - acc: 0.6905 - val_loss: 0.0321 - val_acc: 0.7156\n",
      "Epoch 21/100\n",
      "1081/1084 [============================>.] - ETA: 0s - loss: 0.0357 - acc: 0.6957\n",
      "Epoch 00021: val_loss did not improve from 0.03160\n",
      "1084/1084 [==============================] - 3s 3ms/step - loss: 0.0357 - acc: 0.6958 - val_loss: 0.0317 - val_acc: 0.7270\n",
      "Epoch 22/100\n",
      "1080/1084 [============================>.] - ETA: 0s - loss: 0.0356 - acc: 0.6923\n",
      "Epoch 00022: val_loss did not improve from 0.03160\n",
      "1084/1084 [==============================] - 3s 3ms/step - loss: 0.0356 - acc: 0.6924 - val_loss: 0.0324 - val_acc: 0.7244\n",
      "Epoch 23/100\n",
      "1083/1084 [============================>.] - ETA: 0s - loss: 0.0357 - acc: 0.6956\n",
      "Epoch 00023: val_loss improved from 0.03160 to 0.03094, saving model to model_CNN_params.h5\n",
      "1084/1084 [==============================] - 3s 3ms/step - loss: 0.0357 - acc: 0.6957 - val_loss: 0.0309 - val_acc: 0.7211\n",
      "Epoch 24/100\n",
      "1083/1084 [============================>.] - ETA: 0s - loss: 0.0353 - acc: 0.6928\n",
      "Epoch 00024: val_loss did not improve from 0.03094\n",
      "1084/1084 [==============================] - 4s 3ms/step - loss: 0.0353 - acc: 0.6928 - val_loss: 0.0311 - val_acc: 0.7081\n",
      "Epoch 25/100\n",
      "1076/1084 [============================>.] - ETA: 0s - loss: 0.0354 - acc: 0.6926\n",
      "Epoch 00025: val_loss did not improve from 0.03094\n",
      "1084/1084 [==============================] - 3s 3ms/step - loss: 0.0353 - acc: 0.6927 - val_loss: 0.0316 - val_acc: 0.7270\n",
      "Epoch 26/100\n",
      "1081/1084 [============================>.] - ETA: 0s - loss: 0.0353 - acc: 0.6933\n",
      "Epoch 00026: val_loss did not improve from 0.03094\n",
      "1084/1084 [==============================] - 3s 3ms/step - loss: 0.0354 - acc: 0.6931 - val_loss: 0.0323 - val_acc: 0.7255\n",
      "Epoch 27/100\n",
      "1084/1084 [==============================] - ETA: 0s - loss: 0.0350 - acc: 0.6981- ETA: \n",
      "Epoch 00027: val_loss did not improve from 0.03094\n",
      "1084/1084 [==============================] - 4s 3ms/step - loss: 0.0350 - acc: 0.6981 - val_loss: 0.0312 - val_acc: 0.7208\n",
      "Epoch 28/100\n",
      "1073/1084 [============================>.] - ETA: 0s - loss: 0.0351 - acc: 0.6958\n",
      "Epoch 00028: val_loss did not improve from 0.03094\n",
      "1084/1084 [==============================] - 4s 3ms/step - loss: 0.0351 - acc: 0.6961 - val_loss: 0.0311 - val_acc: 0.7320\n",
      "Epoch 29/100\n",
      "1082/1084 [============================>.] - ETA: 0s - loss: 0.0349 - acc: 0.6950\n",
      "Epoch 00029: val_loss did not improve from 0.03094\n",
      "1084/1084 [==============================] - 4s 3ms/step - loss: 0.0349 - acc: 0.6951 - val_loss: 0.0317 - val_acc: 0.7330\n",
      "Epoch 30/100\n",
      "1081/1084 [============================>.] - ETA: 0s - loss: 0.0347 - acc: 0.6951- ETA: 0s - loss: 0.0347 - acc: 0.69\n",
      "Epoch 00030: val_loss did not improve from 0.03094\n",
      "1084/1084 [==============================] - 3s 3ms/step - loss: 0.0347 - acc: 0.6953 - val_loss: 0.0314 - val_acc: 0.7252\n",
      "Epoch 31/100\n",
      "1070/1084 [============================>.] - ETA: 0s - loss: 0.0349 - acc: 0.6929\n",
      "Epoch 00031: val_loss did not improve from 0.03094\n",
      "1084/1084 [==============================] - 3s 3ms/step - loss: 0.0349 - acc: 0.6927 - val_loss: 0.0311 - val_acc: 0.7335\n",
      "Epoch 32/100\n",
      "1068/1084 [============================>.] - ETA: 0s - loss: 0.0347 - acc: 0.6956\n",
      "Epoch 00032: val_loss did not improve from 0.03094\n",
      "1084/1084 [==============================] - 3s 3ms/step - loss: 0.0347 - acc: 0.6953 - val_loss: 0.0327 - val_acc: 0.7377\n",
      "Epoch 33/100\n",
      "1079/1084 [============================>.] - ETA: 0s - loss: 0.0346 - acc: 0.6971\n",
      "Epoch 00033: val_loss improved from 0.03094 to 0.03089, saving model to model_CNN_params.h5\n",
      "1084/1084 [==============================] - 3s 3ms/step - loss: 0.0346 - acc: 0.6970 - val_loss: 0.0309 - val_acc: 0.7169\n",
      "Epoch 34/100\n",
      "1078/1084 [============================>.] - ETA: 0s - loss: 0.0346 - acc: 0.6927\n",
      "Epoch 00034: val_loss did not improve from 0.03089\n",
      "1084/1084 [==============================] - 3s 3ms/step - loss: 0.0346 - acc: 0.6925 - val_loss: 0.0314 - val_acc: 0.7247\n",
      "Epoch 35/100\n",
      "1083/1084 [============================>.] - ETA: 0s - loss: 0.0346 - acc: 0.6970\n",
      "Epoch 00035: val_loss did not improve from 0.03089\n",
      "1084/1084 [==============================] - 3s 3ms/step - loss: 0.0346 - acc: 0.6971 - val_loss: 0.0314 - val_acc: 0.7273\n",
      "Epoch 36/100\n",
      "1069/1084 [============================>.] - ETA: 0s - loss: 0.0344 - acc: 0.6960\n",
      "Epoch 00036: val_loss did not improve from 0.03089\n",
      "1084/1084 [==============================] - 3s 3ms/step - loss: 0.0345 - acc: 0.6961 - val_loss: 0.0321 - val_acc: 0.7356\n",
      "Epoch 37/100\n",
      "1073/1084 [============================>.] - ETA: 0s - loss: 0.0346 - acc: 0.6938\n",
      "Epoch 00037: val_loss did not improve from 0.03089\n",
      "1084/1084 [==============================] - 3s 3ms/step - loss: 0.0346 - acc: 0.6942 - val_loss: 0.0314 - val_acc: 0.7307\n",
      "Epoch 38/100\n",
      "1084/1084 [==============================] - ETA: 0s - loss: 0.0344 - acc: 0.6929\n",
      "Epoch 00038: val_loss did not improve from 0.03089\n",
      "1084/1084 [==============================] - 3s 3ms/step - loss: 0.0344 - acc: 0.6929 - val_loss: 0.0310 - val_acc: 0.7255\n",
      "Epoch 39/100\n",
      "1068/1084 [============================>.] - ETA: 0s - loss: 0.0344 - acc: 0.6948\n",
      "Epoch 00039: val_loss improved from 0.03089 to 0.03081, saving model to model_CNN_params.h5\n",
      "1084/1084 [==============================] - 2s 2ms/step - loss: 0.0344 - acc: 0.6951 - val_loss: 0.0308 - val_acc: 0.7273\n",
      "Epoch 40/100\n",
      "1068/1084 [============================>.] - ETA: 0s - loss: 0.0344 - acc: 0.6972\n",
      "Epoch 00040: val_loss improved from 0.03081 to 0.03080, saving model to model_CNN_params.h5\n",
      "1084/1084 [==============================] - 2s 2ms/step - loss: 0.0344 - acc: 0.6966 - val_loss: 0.0308 - val_acc: 0.7234\n",
      "Epoch 41/100\n",
      "1080/1084 [============================>.] - ETA: 0s - loss: 0.0343 - acc: 0.6980\n",
      "Epoch 00041: val_loss did not improve from 0.03080\n",
      "1084/1084 [==============================] - 2s 2ms/step - loss: 0.0343 - acc: 0.6980 - val_loss: 0.0309 - val_acc: 0.7299\n",
      "Epoch 42/100\n",
      "1065/1084 [============================>.] - ETA: 0s - loss: 0.0343 - acc: 0.6972\n",
      "Epoch 00042: val_loss did not improve from 0.03080\n",
      "1084/1084 [==============================] - 2s 2ms/step - loss: 0.0343 - acc: 0.6974 - val_loss: 0.0309 - val_acc: 0.7317\n",
      "Epoch 43/100\n",
      "1078/1084 [============================>.] - ETA: 0s - loss: 0.0341 - acc: 0.6956\n",
      "Epoch 00043: val_loss did not improve from 0.03080\n",
      "1084/1084 [==============================] - 2s 2ms/step - loss: 0.0341 - acc: 0.6956 - val_loss: 0.0312 - val_acc: 0.7283\n",
      "Epoch 44/100\n",
      "1058/1084 [============================>.] - ETA: 0s - loss: 0.0341 - acc: 0.6980\n",
      "Epoch 00044: val_loss improved from 0.03080 to 0.03041, saving model to model_CNN_params.h5\n",
      "1084/1084 [==============================] - 3s 3ms/step - loss: 0.0342 - acc: 0.6976 - val_loss: 0.0304 - val_acc: 0.7206\n",
      "Epoch 45/100\n",
      "1065/1084 [============================>.] - ETA: 0s - loss: 0.0342 - acc: 0.6944\n",
      "Epoch 00045: val_loss did not improve from 0.03041\n",
      "1084/1084 [==============================] - 2s 2ms/step - loss: 0.0342 - acc: 0.6939 - val_loss: 0.0317 - val_acc: 0.7244\n",
      "Epoch 46/100\n",
      "1073/1084 [============================>.] - ETA: 0s - loss: 0.0341 - acc: 0.6979\n",
      "Epoch 00046: val_loss did not improve from 0.03041\n",
      "1084/1084 [==============================] - 2s 2ms/step - loss: 0.0341 - acc: 0.6978 - val_loss: 0.0318 - val_acc: 0.7276\n",
      "Epoch 47/100\n",
      "1078/1084 [============================>.] - ETA: 0s - loss: 0.0341 - acc: 0.6954\n",
      "Epoch 00047: val_loss did not improve from 0.03041\n",
      "1084/1084 [==============================] - 2s 2ms/step - loss: 0.0340 - acc: 0.6954 - val_loss: 0.0316 - val_acc: 0.7343\n",
      "Epoch 48/100\n",
      "1076/1084 [============================>.] - ETA: 0s - loss: 0.0341 - acc: 0.6955- ETA: 0s - loss: 0.0340 - a\n",
      "Epoch 00048: val_loss did not improve from 0.03041\n",
      "1084/1084 [==============================] - 2s 2ms/step - loss: 0.0341 - acc: 0.6956 - val_loss: 0.0304 - val_acc: 0.7289\n",
      "Epoch 49/100\n",
      "1069/1084 [============================>.] - ETA: 0s - loss: 0.0340 - acc: 0.6954\n",
      "Epoch 00049: val_loss did not improve from 0.03041\n",
      "1084/1084 [==============================] - 2s 2ms/step - loss: 0.0340 - acc: 0.6952 - val_loss: 0.0305 - val_acc: 0.7353\n",
      "Epoch 50/100\n",
      "1073/1084 [============================>.] - ETA: 0s - loss: 0.0340 - acc: 0.6966\n",
      "Epoch 00050: val_loss did not improve from 0.03041\n",
      "1084/1084 [==============================] - 2s 2ms/step - loss: 0.0340 - acc: 0.6969 - val_loss: 0.0311 - val_acc: 0.7351\n",
      "Epoch 51/100\n",
      "1080/1084 [============================>.] - ETA: 0s - loss: 0.0339 - acc: 0.6959\n",
      "Epoch 00051: val_loss improved from 0.03041 to 0.03019, saving model to model_CNN_params.h5\n",
      "1084/1084 [==============================] - 2s 2ms/step - loss: 0.0339 - acc: 0.6959 - val_loss: 0.0302 - val_acc: 0.7312\n",
      "Epoch 52/100\n",
      "1070/1084 [============================>.] - ETA: 0s - loss: 0.0338 - acc: 0.6970- ETA: 0s - loss: 0.0337 - a\n",
      "Epoch 00052: val_loss did not improve from 0.03019\n",
      "1084/1084 [==============================] - 2s 2ms/step - loss: 0.0338 - acc: 0.6968 - val_loss: 0.0303 - val_acc: 0.7231\n",
      "Epoch 53/100\n",
      "1078/1084 [============================>.] - ETA: 0s - loss: 0.0337 - acc: 0.6970\n",
      "Epoch 00053: val_loss did not improve from 0.03019\n",
      "1084/1084 [==============================] - 2s 2ms/step - loss: 0.0337 - acc: 0.6969 - val_loss: 0.0311 - val_acc: 0.7281\n",
      "Epoch 54/100\n",
      "1073/1084 [============================>.] - ETA: 0s - loss: 0.0338 - acc: 0.6927\n",
      "Epoch 00054: val_loss did not improve from 0.03019\n",
      "1084/1084 [==============================] - 3s 3ms/step - loss: 0.0338 - acc: 0.6929 - val_loss: 0.0309 - val_acc: 0.7281\n",
      "Epoch 55/100\n",
      "1065/1084 [============================>.] - ETA: 0s - loss: 0.0338 - acc: 0.6948\n",
      "Epoch 00055: val_loss did not improve from 0.03019\n",
      "1084/1084 [==============================] - 3s 3ms/step - loss: 0.0337 - acc: 0.6947 - val_loss: 0.0303 - val_acc: 0.7400\n",
      "Epoch 56/100\n",
      "1075/1084 [============================>.] - ETA: 0s - loss: 0.0337 - acc: 0.6988- ETA:\n",
      "Epoch 00056: val_loss improved from 0.03019 to 0.03013, saving model to model_CNN_params.h5\n",
      "1084/1084 [==============================] - 3s 3ms/step - loss: 0.0338 - acc: 0.6987 - val_loss: 0.0301 - val_acc: 0.7348\n",
      "Epoch 57/100\n",
      "1084/1084 [==============================] - ETA: 0s - loss: 0.0336 - acc: 0.7014\n",
      "Epoch 00057: val_loss did not improve from 0.03013\n",
      "1084/1084 [==============================] - 3s 3ms/step - loss: 0.0336 - acc: 0.7014 - val_loss: 0.0312 - val_acc: 0.7322\n",
      "Epoch 58/100\n"
     ]
    },
    {
     "name": "stdout",
     "output_type": "stream",
     "text": [
      "1073/1084 [============================>.] - ETA: 0s - loss: 0.0336 - acc: 0.6937- ETA: 1s - l\n",
      "Epoch 00058: val_loss did not improve from 0.03013\n",
      "1084/1084 [==============================] - 3s 3ms/step - loss: 0.0336 - acc: 0.6936 - val_loss: 0.0306 - val_acc: 0.7382\n",
      "Epoch 59/100\n",
      "1076/1084 [============================>.] - ETA: 0s - loss: 0.0337 - acc: 0.6992\n",
      "Epoch 00059: val_loss did not improve from 0.03013\n",
      "1084/1084 [==============================] - 4s 3ms/step - loss: 0.0337 - acc: 0.6991 - val_loss: 0.0306 - val_acc: 0.7309\n",
      "Epoch 60/100\n",
      "1071/1084 [============================>.] - ETA: 0s - loss: 0.0335 - acc: 0.6979\n",
      "Epoch 00060: val_loss did not improve from 0.03013\n",
      "1084/1084 [==============================] - 3s 2ms/step - loss: 0.0336 - acc: 0.6976 - val_loss: 0.0303 - val_acc: 0.7242\n",
      "Epoch 61/100\n",
      "1064/1084 [============================>.] - ETA: 0s - loss: 0.0335 - acc: 0.6950\n",
      "Epoch 00061: val_loss did not improve from 0.03013\n",
      "1084/1084 [==============================] - 2s 2ms/step - loss: 0.0335 - acc: 0.6950 - val_loss: 0.0308 - val_acc: 0.7356\n",
      "Epoch 62/100\n",
      "1084/1084 [==============================] - ETA: 0s - loss: 0.0336 - acc: 0.6995\n",
      "Epoch 00062: val_loss did not improve from 0.03013\n",
      "1084/1084 [==============================] - 2s 2ms/step - loss: 0.0336 - acc: 0.6995 - val_loss: 0.0311 - val_acc: 0.7244\n",
      "Epoch 63/100\n",
      "1081/1084 [============================>.] - ETA: 0s - loss: 0.0335 - acc: 0.6978\n",
      "Epoch 00063: val_loss did not improve from 0.03013\n",
      "1084/1084 [==============================] - 3s 3ms/step - loss: 0.0335 - acc: 0.6979 - val_loss: 0.0305 - val_acc: 0.7234\n",
      "Epoch 64/100\n",
      "1075/1084 [============================>.] - ETA: 0s - loss: 0.0336 - acc: 0.6961\n",
      "Epoch 00064: val_loss improved from 0.03013 to 0.02994, saving model to model_CNN_params.h5\n",
      "1084/1084 [==============================] - 2s 2ms/step - loss: 0.0336 - acc: 0.6960 - val_loss: 0.0299 - val_acc: 0.7247\n",
      "Epoch 65/100\n",
      "1067/1084 [============================>.] - ETA: 0s - loss: 0.0334 - acc: 0.6973\n",
      "Epoch 00065: val_loss did not improve from 0.02994\n",
      "1084/1084 [==============================] - 2s 2ms/step - loss: 0.0334 - acc: 0.6971 - val_loss: 0.0304 - val_acc: 0.7294\n",
      "Epoch 66/100\n",
      "1060/1084 [============================>.] - ETA: 0s - loss: 0.0334 - acc: 0.6986\n",
      "Epoch 00066: val_loss did not improve from 0.02994\n",
      "1084/1084 [==============================] - 2s 2ms/step - loss: 0.0335 - acc: 0.6982 - val_loss: 0.0312 - val_acc: 0.7229\n",
      "Epoch 67/100\n",
      "1083/1084 [============================>.] - ETA: 0s - loss: 0.0335 - acc: 0.6951\n",
      "Epoch 00067: val_loss did not improve from 0.02994\n",
      "1084/1084 [==============================] - 2s 2ms/step - loss: 0.0335 - acc: 0.6951 - val_loss: 0.0304 - val_acc: 0.7263\n",
      "Epoch 68/100\n",
      "1066/1084 [============================>.] - ETA: 0s - loss: 0.0333 - acc: 0.6984\n",
      "Epoch 00068: val_loss did not improve from 0.02994\n",
      "1084/1084 [==============================] - 2s 2ms/step - loss: 0.0334 - acc: 0.6985 - val_loss: 0.0300 - val_acc: 0.7200\n",
      "Epoch 69/100\n",
      "1078/1084 [============================>.] - ETA: 0s - loss: 0.0334 - acc: 0.6998\n",
      "Epoch 00069: val_loss did not improve from 0.02994\n",
      "1084/1084 [==============================] - 3s 3ms/step - loss: 0.0334 - acc: 0.7002 - val_loss: 0.0303 - val_acc: 0.7314\n",
      "Epoch 70/100\n",
      "1069/1084 [============================>.] - ETA: 0s - loss: 0.0333 - acc: 0.6962\n",
      "Epoch 00070: val_loss did not improve from 0.02994\n",
      "1084/1084 [==============================] - 3s 3ms/step - loss: 0.0333 - acc: 0.6967 - val_loss: 0.0307 - val_acc: 0.7333\n",
      "Epoch 71/100\n",
      "1069/1084 [============================>.] - ETA: 0s - loss: 0.0335 - acc: 0.6989\n",
      "Epoch 00071: val_loss did not improve from 0.02994\n",
      "1084/1084 [==============================] - 3s 3ms/step - loss: 0.0334 - acc: 0.6988 - val_loss: 0.0303 - val_acc: 0.7276\n",
      "Epoch 72/100\n",
      "1077/1084 [============================>.] - ETA: 0s - loss: 0.0333 - acc: 0.6976\n",
      "Epoch 00072: val_loss did not improve from 0.02994\n",
      "1084/1084 [==============================] - 3s 3ms/step - loss: 0.0334 - acc: 0.6972 - val_loss: 0.0312 - val_acc: 0.7273\n",
      "Epoch 73/100\n",
      "1077/1084 [============================>.] - ETA: 0s - loss: 0.0334 - acc: 0.6939\n",
      "Epoch 00073: val_loss did not improve from 0.02994\n",
      "1084/1084 [==============================] - 3s 3ms/step - loss: 0.0333 - acc: 0.6941 - val_loss: 0.0301 - val_acc: 0.7325\n",
      "Epoch 74/100\n",
      "1069/1084 [============================>.] - ETA: 0s - loss: 0.0332 - acc: 0.7007\n",
      "Epoch 00074: val_loss improved from 0.02994 to 0.02993, saving model to model_CNN_params.h5\n",
      "1084/1084 [==============================] - 3s 3ms/step - loss: 0.0332 - acc: 0.7008 - val_loss: 0.0299 - val_acc: 0.7252\n",
      "Epoch 75/100\n",
      "1074/1084 [============================>.] - ETA: 0s - loss: 0.0333 - acc: 0.7008\n",
      "Epoch 00075: val_loss did not improve from 0.02993\n",
      "1084/1084 [==============================] - 3s 3ms/step - loss: 0.0333 - acc: 0.7008 - val_loss: 0.0301 - val_acc: 0.7213\n",
      "Epoch 76/100\n",
      "1072/1084 [============================>.] - ETA: 0s - loss: 0.0331 - acc: 0.7004\n",
      "Epoch 00076: val_loss did not improve from 0.02993\n",
      "1084/1084 [==============================] - 3s 3ms/step - loss: 0.0331 - acc: 0.7001 - val_loss: 0.0304 - val_acc: 0.7299\n",
      "Epoch 77/100\n",
      "1078/1084 [============================>.] - ETA: 0s - loss: 0.0333 - acc: 0.6973\n",
      "Epoch 00077: val_loss did not improve from 0.02993\n",
      "1084/1084 [==============================] - 4s 4ms/step - loss: 0.0333 - acc: 0.6974 - val_loss: 0.0300 - val_acc: 0.7348\n",
      "Epoch 78/100\n",
      "1074/1084 [============================>.] - ETA: 0s - loss: 0.0332 - acc: 0.6983\n",
      "Epoch 00078: val_loss did not improve from 0.02993\n",
      "1084/1084 [==============================] - 3s 3ms/step - loss: 0.0332 - acc: 0.6980 - val_loss: 0.0308 - val_acc: 0.7281\n",
      "Epoch 79/100\n",
      "1070/1084 [============================>.] - ETA: 0s - loss: 0.0331 - acc: 0.6979\n",
      "Epoch 00079: val_loss did not improve from 0.02993\n",
      "1084/1084 [==============================] - 3s 3ms/step - loss: 0.0331 - acc: 0.6984 - val_loss: 0.0305 - val_acc: 0.7291\n",
      "Epoch 80/100\n",
      "1066/1084 [============================>.] - ETA: 0s - loss: 0.0330 - acc: 0.6981\n",
      "Epoch 00080: val_loss did not improve from 0.02993\n",
      "1084/1084 [==============================] - 3s 3ms/step - loss: 0.0330 - acc: 0.6980 - val_loss: 0.0303 - val_acc: 0.7242\n",
      "Epoch 81/100\n",
      "1078/1084 [============================>.] - ETA: 0s - loss: 0.0332 - acc: 0.7001\n",
      "Epoch 00081: val_loss did not improve from 0.02993\n",
      "1084/1084 [==============================] - 3s 3ms/step - loss: 0.0331 - acc: 0.7004 - val_loss: 0.0300 - val_acc: 0.7364\n",
      "Epoch 82/100\n",
      "1073/1084 [============================>.] - ETA: 0s - loss: 0.0332 - acc: 0.6988\n",
      "Epoch 00082: val_loss did not improve from 0.02993\n",
      "1084/1084 [==============================] - 3s 3ms/step - loss: 0.0332 - acc: 0.6993 - val_loss: 0.0305 - val_acc: 0.7366\n",
      "Epoch 83/100\n",
      "1083/1084 [============================>.] - ETA: 0s - loss: 0.0330 - acc: 0.7010\n",
      "Epoch 00083: val_loss did not improve from 0.02993\n",
      "1084/1084 [==============================] - 3s 3ms/step - loss: 0.0330 - acc: 0.7010 - val_loss: 0.0311 - val_acc: 0.7348\n",
      "Epoch 84/100\n",
      "1075/1084 [============================>.] - ETA: 0s - loss: 0.0332 - acc: 0.6981\n",
      "Epoch 00084: val_loss did not improve from 0.02993\n",
      "1084/1084 [==============================] - 3s 3ms/step - loss: 0.0332 - acc: 0.6983 - val_loss: 0.0305 - val_acc: 0.7294\n",
      "Epoch 85/100\n",
      "1080/1084 [============================>.] - ETA: 0s - loss: 0.0332 - acc: 0.7013\n",
      "Epoch 00085: val_loss did not improve from 0.02993\n",
      "1084/1084 [==============================] - 3s 3ms/step - loss: 0.0332 - acc: 0.7010 - val_loss: 0.0302 - val_acc: 0.7374\n",
      "Epoch 86/100\n",
      "1083/1084 [============================>.] - ETA: 0s - loss: 0.0329 - acc: 0.6992\n",
      "Epoch 00086: val_loss did not improve from 0.02993\n",
      "1084/1084 [==============================] - 3s 3ms/step - loss: 0.0329 - acc: 0.6992 - val_loss: 0.0302 - val_acc: 0.7356\n",
      "Epoch 87/100\n",
      "1079/1084 [============================>.] - ETA: 0s - loss: 0.0331 - acc: 0.6984\n",
      "Epoch 00087: val_loss did not improve from 0.02993\n",
      "1084/1084 [==============================] - 3s 3ms/step - loss: 0.0332 - acc: 0.6986 - val_loss: 0.0309 - val_acc: 0.7455\n",
      "Epoch 88/100\n",
      "1081/1084 [============================>.] - ETA: 0s - loss: 0.0330 - acc: 0.7005\n",
      "Epoch 00088: val_loss did not improve from 0.02993\n",
      "1084/1084 [==============================] - 3s 3ms/step - loss: 0.0331 - acc: 0.7005 - val_loss: 0.0304 - val_acc: 0.7364\n",
      "Epoch 89/100\n",
      "1075/1084 [============================>.] - ETA: 0s - loss: 0.0330 - acc: 0.7008\n",
      "Epoch 00089: val_loss did not improve from 0.02993\n",
      "1084/1084 [==============================] - 3s 3ms/step - loss: 0.0330 - acc: 0.7004 - val_loss: 0.0302 - val_acc: 0.7372\n",
      "Epoch 90/100\n",
      "1084/1084 [==============================] - ETA: 0s - loss: 0.0331 - acc: 0.6981\n",
      "Epoch 00090: val_loss did not improve from 0.02993\n",
      "1084/1084 [==============================] - 3s 3ms/step - loss: 0.0331 - acc: 0.6981 - val_loss: 0.0303 - val_acc: 0.7364\n",
      "Epoch 91/100\n",
      "1081/1084 [============================>.] - ETA: 0s - loss: 0.0328 - acc: 0.6992\n",
      "Epoch 00091: val_loss did not improve from 0.02993\n",
      "1084/1084 [==============================] - 3s 3ms/step - loss: 0.0328 - acc: 0.6992 - val_loss: 0.0303 - val_acc: 0.7408\n",
      "Epoch 92/100\n",
      "1072/1084 [============================>.] - ETA: 0s - loss: 0.0329 - acc: 0.7004\n",
      "Epoch 00092: val_loss did not improve from 0.02993\n",
      "1084/1084 [==============================] - 3s 3ms/step - loss: 0.0329 - acc: 0.7001 - val_loss: 0.0305 - val_acc: 0.7224\n",
      "Epoch 93/100\n",
      "1076/1084 [============================>.] - ETA: 0s - loss: 0.0328 - acc: 0.6990- ETA: 1s -\n",
      "Epoch 00093: val_loss improved from 0.02993 to 0.02986, saving model to model_CNN_params.h5\n",
      "1084/1084 [==============================] - 3s 3ms/step - loss: 0.0328 - acc: 0.6989 - val_loss: 0.0299 - val_acc: 0.7174\n",
      "Epoch 94/100\n",
      "1083/1084 [============================>.] - ETA: 0s - loss: 0.0330 - acc: 0.6987\n",
      "Epoch 00094: val_loss did not improve from 0.02986\n",
      "1084/1084 [==============================] - 3s 3ms/step - loss: 0.0330 - acc: 0.6987 - val_loss: 0.0300 - val_acc: 0.7296\n",
      "Epoch 95/100\n",
      "1076/1084 [============================>.] - ETA: 0s - loss: 0.0329 - acc: 0.7010\n",
      "Epoch 00095: val_loss did not improve from 0.02986\n",
      "1084/1084 [==============================] - 3s 3ms/step - loss: 0.0329 - acc: 0.7005 - val_loss: 0.0303 - val_acc: 0.7294\n",
      "Epoch 96/100\n",
      "1079/1084 [============================>.] - ETA: 0s - loss: 0.0330 - acc: 0.6977\n",
      "Epoch 00096: val_loss did not improve from 0.02986\n",
      "1084/1084 [==============================] - 3s 3ms/step - loss: 0.0330 - acc: 0.6976 - val_loss: 0.0303 - val_acc: 0.7356\n",
      "Epoch 97/100\n",
      "1068/1084 [============================>.] - ETA: 0s - loss: 0.0329 - acc: 0.6986\n",
      "Epoch 00097: val_loss did not improve from 0.02986\n",
      "1084/1084 [==============================] - 3s 3ms/step - loss: 0.0329 - acc: 0.6985 - val_loss: 0.0305 - val_acc: 0.7374\n",
      "Epoch 98/100\n",
      "1080/1084 [============================>.] - ETA: 0s - loss: 0.0330 - acc: 0.7003\n",
      "Epoch 00098: val_loss did not improve from 0.02986\n",
      "1084/1084 [==============================] - 3s 3ms/step - loss: 0.0330 - acc: 0.7005 - val_loss: 0.0302 - val_acc: 0.7260\n",
      "Epoch 99/100\n",
      "1083/1084 [============================>.] - ETA: 0s - loss: 0.0328 - acc: 0.7007\n",
      "Epoch 00099: val_loss did not improve from 0.02986\n",
      "1084/1084 [==============================] - 3s 3ms/step - loss: 0.0328 - acc: 0.7007 - val_loss: 0.0303 - val_acc: 0.7276\n",
      "Epoch 100/100\n",
      "1067/1084 [============================>.] - ETA: 0s - loss: 0.0329 - acc: 0.6983\n",
      "Epoch 00100: val_loss did not improve from 0.02986\n",
      "1084/1084 [==============================] - 3s 3ms/step - loss: 0.0329 - acc: 0.6982 - val_loss: 0.0302 - val_acc: 0.7405\n"
     ]
    }
   ],
   "source": [
    "checkpoint = ModelCheckpoint(\"model_CNN_params.h5\", monitor = \"val_loss\", verbose = 1, save_best_only = True)\n",
    "early_stop = EarlyStopping(patience=20)\n",
    "\n",
    "hist_CNN = model_CNN.fit(pre_trained, normalized_values_aug, epochs = 100, validation_split = 0.1, callbacks = [checkpoint, early_stop])\n"
   ]
  },
  {
   "cell_type": "code",
   "execution_count": 60,
   "metadata": {},
   "outputs": [],
   "source": [
    "hist_model_save(model_CNN, hist_CNN)"
   ]
  },
  {
   "cell_type": "markdown",
   "metadata": {},
   "source": [
    "As we can see it's a step back in term of accuracy"
   ]
  },
  {
   "cell_type": "code",
   "execution_count": 206,
   "metadata": {},
   "outputs": [
    {
     "name": "stdout",
     "output_type": "stream",
     "text": [
      "The CNN accuracy value is 0.7014473676681519\n"
     ]
    }
   ],
   "source": [
    "hist_CNN = open('hist_CNN.json').read()\n",
    "hist_CNN = eval(hist_CNN)\n",
    "print('The CNN accuracy value is {}'.format(max(hist_CNN['acc'])))"
   ]
  },
  {
   "cell_type": "markdown",
   "metadata": {},
   "source": [
    "But this preprocessing with google pre trained word embeddings is usefull to build a possible reverse, one-to-many, model."
   ]
  },
  {
   "cell_type": "code",
   "execution_count": 227,
   "metadata": {},
   "outputs": [],
   "source": [
    "def preproc_color2vec(df):\n",
    "    \n",
    "    df = df.reset_index(drop=True)\n",
    "    X_train = []\n",
    "    empty_rgb_vec = 3 * [0]\n",
    "    mask_rgb_vec = 3 * [-1]\n",
    "\n",
    "    for idx in data_aug.index:\n",
    "        tokens = df.loc[idx,'name'].split()\n",
    "        num_tokens = len(tokens)\n",
    "\n",
    "        X = [df.iloc[idx,1:4].values.tolist()]\n",
    "        i = 1\n",
    "        while i < num_tokens:\n",
    "            X.append(empty_rgb_vec)\n",
    "            i += 1\n",
    "\n",
    "        while i < max_tokens:\n",
    "            X.append(mask_rgb_vec)\n",
    "            i += 1\n",
    "\n",
    "        X_train.append(np.array(X))\n",
    "    return np.array(X_train)"
   ]
  },
  {
   "cell_type": "markdown",
   "metadata": {},
   "source": [
    "I built a model that takes as input a tensor with fixed dimensions $6 \\times 3$. The first vector is the color in [r,g,b], the information of the number of words is passed by zeros vectors, the remaining vectors are filled with -1 as to use in the model a masking layer. "
   ]
  },
  {
   "cell_type": "markdown",
   "metadata": {},
   "source": [
    "For example, the color \"a brand new day\", that has values [255, 170, 187], is encoded with the tensor:"
   ]
  },
  {
   "cell_type": "code",
   "execution_count": 228,
   "metadata": {},
   "outputs": [
    {
     "data": {
      "text/plain": [
       "((38538, 6, 3),\n",
       " array([[255, 170, 187],\n",
       "        [  0,   0,   0],\n",
       "        [  0,   0,   0],\n",
       "        [  0,   0,   0],\n",
       "        [ -1,  -1,  -1],\n",
       "        [ -1,  -1,  -1]]))"
      ]
     },
     "execution_count": 228,
     "metadata": {},
     "output_type": "execute_result"
    }
   ],
   "source": [
    "rgbs = preproc_color2vec(data_aug)\n",
    "rgbs.shape, rgbs[0]"
   ]
  },
  {
   "cell_type": "markdown",
   "metadata": {},
   "source": [
    "The target will be the $6 \\times 300$ tensors we used as training set in the previous CNN model, so the last layer of my model will apply the same Dense layer (same weights) to the LSTMs outputs for one time step at a time. It can be done using a  TimeDistributed Layer. "
   ]
  },
  {
   "cell_type": "code",
   "execution_count": 229,
   "metadata": {},
   "outputs": [],
   "source": [
    "from keras.layers import Dense, Masking, TimeDistributed\n",
    "\n",
    "def color2vec():\n",
    "    model = Sequential()\n",
    "    model.add(Masking(mask_value = -1, input_shape = (max_tokens, 3)))\n",
    "    model.add(LSTM(256, return_sequences = True))\n",
    "    model.add(TimeDistributed(Dense(dim)))\n",
    "\n",
    "    model.compile(optimizer='adam', loss='mse', metrics=['acc'])\n",
    "    return model"
   ]
  },
  {
   "cell_type": "code",
   "execution_count": 73,
   "metadata": {},
   "outputs": [
    {
     "name": "stdout",
     "output_type": "stream",
     "text": [
      "Model: \"sequential_4\"\n",
      "_________________________________________________________________\n",
      "Layer (type)                 Output Shape              Param #   \n",
      "=================================================================\n",
      "masking (Masking)            (None, 6, 3)              0         \n",
      "_________________________________________________________________\n",
      "lstm_11 (LSTM)               (None, 6, 256)            266240    \n",
      "_________________________________________________________________\n",
      "time_distributed (TimeDistri (None, 6, 300)            77100     \n",
      "=================================================================\n",
      "Total params: 343,340\n",
      "Trainable params: 343,340\n",
      "Non-trainable params: 0\n",
      "_________________________________________________________________\n"
     ]
    }
   ],
   "source": [
    "model_color2words = color2vec()\n",
    "model_color2words.summary()"
   ]
  },
  {
   "cell_type": "code",
   "execution_count": 172,
   "metadata": {},
   "outputs": [
    {
     "name": "stdout",
     "output_type": "stream",
     "text": [
      "Epoch 1/100\n",
      "1082/1084 [============================>.] - ETA: 0s - loss: 0.0072 - acc: 0.0199\n",
      "Epoch 00001: val_loss improved from inf to 0.00706, saving model to color2words_params.h5\n",
      "1084/1084 [==============================] - 30s 27ms/step - loss: 0.0072 - acc: 0.0198 - val_loss: 0.0071 - val_acc: 0.0196\n",
      "Epoch 2/100\n",
      "1084/1084 [==============================] - ETA: 0s - loss: 0.0071 - acc: 0.0206\n",
      "Epoch 00002: val_loss improved from 0.00706 to 0.00705, saving model to color2words_params.h5\n",
      "1084/1084 [==============================] - 29s 27ms/step - loss: 0.0071 - acc: 0.0206 - val_loss: 0.0071 - val_acc: 0.0164\n",
      "Epoch 3/100\n",
      "1083/1084 [============================>.] - ETA: 0s - loss: 0.0071 - acc: 0.0196\n",
      "Epoch 00003: val_loss did not improve from 0.00705\n",
      "1084/1084 [==============================] - 28s 26ms/step - loss: 0.0071 - acc: 0.0196 - val_loss: 0.0071 - val_acc: 0.0212\n",
      "Epoch 4/100\n",
      "1083/1084 [============================>.] - ETA: 0s - loss: 0.0071 - acc: 0.0191\n",
      "Epoch 00004: val_loss improved from 0.00705 to 0.00704, saving model to color2words_params.h5\n",
      "1084/1084 [==============================] - 29s 27ms/step - loss: 0.0071 - acc: 0.0191 - val_loss: 0.0070 - val_acc: 0.0147\n",
      "Epoch 5/100\n",
      "1084/1084 [==============================] - ETA: 0s - loss: 0.0071 - acc: 0.0196\n",
      "Epoch 00005: val_loss did not improve from 0.00704\n",
      "1084/1084 [==============================] - 28s 26ms/step - loss: 0.0071 - acc: 0.0196 - val_loss: 0.0071 - val_acc: 0.0179\n",
      "Epoch 6/100\n",
      "1083/1084 [============================>.] - ETA: 0s - loss: 0.0071 - acc: 0.0190\n",
      "Epoch 00006: val_loss improved from 0.00704 to 0.00704, saving model to color2words_params.h5\n",
      "1084/1084 [==============================] - 28s 26ms/step - loss: 0.0071 - acc: 0.0191 - val_loss: 0.0070 - val_acc: 0.0175\n",
      "Epoch 7/100\n",
      "1084/1084 [==============================] - ETA: 0s - loss: 0.0071 - acc: 0.0198\n",
      "Epoch 00007: val_loss did not improve from 0.00704\n",
      "1084/1084 [==============================] - 27s 25ms/step - loss: 0.0071 - acc: 0.0198 - val_loss: 0.0070 - val_acc: 0.0132\n",
      "Epoch 8/100\n",
      "1083/1084 [============================>.] - ETA: 0s - loss: 0.0071 - acc: 0.0196\n",
      "Epoch 00008: val_loss did not improve from 0.00704\n",
      "1084/1084 [==============================] - 28s 26ms/step - loss: 0.0071 - acc: 0.0196 - val_loss: 0.0070 - val_acc: 0.0176\n",
      "Epoch 9/100\n",
      "1082/1084 [============================>.] - ETA: 0s - loss: 0.0071 - acc: 0.0196\n",
      "Epoch 00009: val_loss did not improve from 0.00704\n",
      "1084/1084 [==============================] - 29s 27ms/step - loss: 0.0071 - acc: 0.0196 - val_loss: 0.0071 - val_acc: 0.0109\n",
      "Epoch 10/100\n",
      "1083/1084 [============================>.] - ETA: 0s - loss: 0.0071 - acc: 0.0192\n",
      "Epoch 00010: val_loss did not improve from 0.00704\n",
      "1084/1084 [==============================] - 29s 27ms/step - loss: 0.0071 - acc: 0.0192 - val_loss: 0.0070 - val_acc: 0.0173\n",
      "Epoch 11/100\n",
      "1083/1084 [============================>.] - ETA: 0s - loss: 0.0071 - acc: 0.0195\n",
      "Epoch 00011: val_loss did not improve from 0.00704\n",
      "1084/1084 [==============================] - 28s 26ms/step - loss: 0.0071 - acc: 0.0195 - val_loss: 0.0071 - val_acc: 0.0144\n",
      "Epoch 12/100\n",
      "1084/1084 [==============================] - ETA: 0s - loss: 0.0071 - acc: 0.0191\n",
      "Epoch 00012: val_loss did not improve from 0.00704\n",
      "1084/1084 [==============================] - 29s 26ms/step - loss: 0.0071 - acc: 0.0191 - val_loss: 0.0070 - val_acc: 0.0218\n",
      "Epoch 13/100\n",
      "1082/1084 [============================>.] - ETA: 0s - loss: 0.0071 - acc: 0.0198\n",
      "Epoch 00013: val_loss did not improve from 0.00704\n",
      "1084/1084 [==============================] - 30s 28ms/step - loss: 0.0071 - acc: 0.0198 - val_loss: 0.0070 - val_acc: 0.0213\n",
      "Epoch 14/100\n",
      "1084/1084 [==============================] - ETA: 0s - loss: 0.0071 - acc: 0.0195\n",
      "Epoch 00014: val_loss did not improve from 0.00704\n",
      "1084/1084 [==============================] - 22s 21ms/step - loss: 0.0071 - acc: 0.0195 - val_loss: 0.0070 - val_acc: 0.0205\n",
      "Epoch 15/100\n",
      "1084/1084 [==============================] - ETA: 0s - loss: 0.0071 - acc: 0.0192\n",
      "Epoch 00015: val_loss did not improve from 0.00704\n",
      "1084/1084 [==============================] - 21s 20ms/step - loss: 0.0071 - acc: 0.0192 - val_loss: 0.0071 - val_acc: 0.0213\n",
      "Epoch 16/100\n",
      "1082/1084 [============================>.] - ETA: 0s - loss: 0.0071 - acc: 0.0192\n",
      "Epoch 00016: val_loss did not improve from 0.00704\n",
      "1084/1084 [==============================] - 24s 22ms/step - loss: 0.0071 - acc: 0.0192 - val_loss: 0.0070 - val_acc: 0.0205\n",
      "Epoch 17/100\n",
      "1082/1084 [============================>.] - ETA: 0s - loss: 0.0071 - acc: 0.0193\n",
      "Epoch 00017: val_loss improved from 0.00704 to 0.00704, saving model to color2words_params.h5\n",
      "1084/1084 [==============================] - 29s 27ms/step - loss: 0.0071 - acc: 0.0193 - val_loss: 0.0070 - val_acc: 0.0143\n",
      "Epoch 18/100\n",
      "1084/1084 [==============================] - ETA: 0s - loss: 0.0071 - acc: 0.0194\n",
      "Epoch 00018: val_loss did not improve from 0.00704\n",
      "1084/1084 [==============================] - 26s 24ms/step - loss: 0.0071 - acc: 0.0194 - val_loss: 0.0070 - val_acc: 0.0176\n",
      "Epoch 19/100\n",
      "1082/1084 [============================>.] - ETA: 0s - loss: 0.0071 - acc: 0.0196\n",
      "Epoch 00019: val_loss did not improve from 0.00704\n",
      "1084/1084 [==============================] - 24s 22ms/step - loss: 0.0071 - acc: 0.0196 - val_loss: 0.0071 - val_acc: 0.0216\n",
      "Epoch 20/100\n",
      "1083/1084 [============================>.] - ETA: 0s - loss: 0.0071 - acc: 0.0197\n",
      "Epoch 00020: val_loss did not improve from 0.00704\n",
      "1084/1084 [==============================] - 30s 27ms/step - loss: 0.0071 - acc: 0.0197 - val_loss: 0.0071 - val_acc: 0.0143\n",
      "Epoch 21/100\n",
      "1083/1084 [============================>.] - ETA: 0s - loss: 0.0071 - acc: 0.0195\n",
      "Epoch 00021: val_loss did not improve from 0.00704\n",
      "1084/1084 [==============================] - 29s 27ms/step - loss: 0.0071 - acc: 0.0195 - val_loss: 0.0071 - val_acc: 0.0143\n",
      "Epoch 22/100\n",
      "1084/1084 [==============================] - ETA: 0s - loss: 0.0071 - acc: 0.0192\n",
      "Epoch 00022: val_loss did not improve from 0.00704\n",
      "1084/1084 [==============================] - 30s 28ms/step - loss: 0.0071 - acc: 0.0192 - val_loss: 0.0070 - val_acc: 0.0142\n",
      "Epoch 23/100\n",
      "1083/1084 [============================>.] - ETA: 0s - loss: 0.0071 - acc: 0.0211\n",
      "Epoch 00023: val_loss did not improve from 0.00704\n",
      "1084/1084 [==============================] - 27s 25ms/step - loss: 0.0071 - acc: 0.0211 - val_loss: 0.0070 - val_acc: 0.0169\n",
      "Epoch 24/100\n",
      "1084/1084 [==============================] - ETA: 0s - loss: 0.0071 - acc: 0.0183\n",
      "Epoch 00024: val_loss did not improve from 0.00704\n",
      "1084/1084 [==============================] - 22s 20ms/step - loss: 0.0071 - acc: 0.0183 - val_loss: 0.0070 - val_acc: 0.0206\n",
      "Epoch 25/100\n",
      "1082/1084 [============================>.] - ETA: 0s - loss: 0.0071 - acc: 0.0192\n",
      "Epoch 00025: val_loss did not improve from 0.00704\n",
      "1084/1084 [==============================] - 26s 24ms/step - loss: 0.0071 - acc: 0.0192 - val_loss: 0.0070 - val_acc: 0.0109\n",
      "Epoch 26/100\n",
      "1083/1084 [============================>.] - ETA: 0s - loss: 0.0071 - acc: 0.0194\n",
      "Epoch 00026: val_loss did not improve from 0.00704\n",
      "1084/1084 [==============================] - 28s 26ms/step - loss: 0.0071 - acc: 0.0194 - val_loss: 0.0070 - val_acc: 0.0210\n",
      "Epoch 27/100\n",
      "1082/1084 [============================>.] - ETA: 0s - loss: 0.0071 - acc: 0.0206\n",
      "Epoch 00027: val_loss did not improve from 0.00704\n",
      "1084/1084 [==============================] - 25s 23ms/step - loss: 0.0071 - acc: 0.0206 - val_loss: 0.0070 - val_acc: 0.0139\n",
      "Epoch 28/100\n",
      "1083/1084 [============================>.] - ETA: 0s - loss: 0.0071 - acc: 0.0191\n",
      "Epoch 00028: val_loss improved from 0.00704 to 0.00704, saving model to color2words_params.h5\n",
      "1084/1084 [==============================] - 25s 23ms/step - loss: 0.0071 - acc: 0.0191 - val_loss: 0.0070 - val_acc: 0.0212\n",
      "Epoch 29/100\n",
      "1084/1084 [==============================] - ETA: 0s - loss: 0.0071 - acc: 0.0193\n",
      "Epoch 00029: val_loss did not improve from 0.00704\n",
      "1084/1084 [==============================] - 31s 28ms/step - loss: 0.0071 - acc: 0.0193 - val_loss: 0.0070 - val_acc: 0.0155\n",
      "Epoch 30/100\n",
      "1083/1084 [============================>.] - ETA: 0s - loss: 0.0071 - acc: 0.0196\n",
      "Epoch 00030: val_loss did not improve from 0.00704\n",
      "1084/1084 [==============================] - 24s 22ms/step - loss: 0.0071 - acc: 0.0196 - val_loss: 0.0070 - val_acc: 0.0214\n",
      "Epoch 31/100\n",
      "1081/1084 [============================>.] - ETA: 0s - loss: 0.0071 - acc: 0.0194\n",
      "Epoch 00031: val_loss did not improve from 0.00704\n",
      "1084/1084 [==============================] - 19s 18ms/step - loss: 0.0071 - acc: 0.0194 - val_loss: 0.0071 - val_acc: 0.0184\n",
      "Epoch 32/100\n",
      "1081/1084 [============================>.] - ETA: 0s - loss: 0.0071 - acc: 0.0192\n",
      "Epoch 00032: val_loss did not improve from 0.00704\n",
      "1084/1084 [==============================] - 19s 18ms/step - loss: 0.0071 - acc: 0.0192 - val_loss: 0.0070 - val_acc: 0.0148\n",
      "Epoch 33/100\n",
      "1083/1084 [============================>.] - ETA: 0s - loss: 0.0071 - acc: 0.0185\n",
      "Epoch 00033: val_loss did not improve from 0.00704\n",
      "1084/1084 [==============================] - 19s 17ms/step - loss: 0.0071 - acc: 0.0185 - val_loss: 0.0071 - val_acc: 0.0214\n",
      "Epoch 34/100\n",
      "1081/1084 [============================>.] - ETA: 0s - loss: 0.0071 - acc: 0.0195\n",
      "Epoch 00034: val_loss did not improve from 0.00704\n",
      "1084/1084 [==============================] - 20s 19ms/step - loss: 0.0071 - acc: 0.0195 - val_loss: 0.0070 - val_acc: 0.0163\n",
      "Epoch 35/100\n",
      "1081/1084 [============================>.] - ETA: 0s - loss: 0.0071 - acc: 0.0197\n",
      "Epoch 00035: val_loss did not improve from 0.00704\n",
      "1084/1084 [==============================] - 19s 18ms/step - loss: 0.0071 - acc: 0.0197 - val_loss: 0.0071 - val_acc: 0.0140\n",
      "Epoch 36/100\n",
      "1082/1084 [============================>.] - ETA: 0s - loss: 0.0071 - acc: 0.0194\n",
      "Epoch 00036: val_loss did not improve from 0.00704\n",
      "1084/1084 [==============================] - 20s 19ms/step - loss: 0.0071 - acc: 0.0194 - val_loss: 0.0071 - val_acc: 0.0212\n",
      "Epoch 37/100\n",
      "1084/1084 [==============================] - ETA: 0s - loss: 0.0071 - acc: 0.0191\n",
      "Epoch 00037: val_loss did not improve from 0.00704\n",
      "1084/1084 [==============================] - 20s 18ms/step - loss: 0.0071 - acc: 0.0191 - val_loss: 0.0071 - val_acc: 0.0208\n",
      "Epoch 38/100\n",
      "1082/1084 [============================>.] - ETA: 0s - loss: 0.0071 - acc: 0.0188\n",
      "Epoch 00038: val_loss did not improve from 0.00704\n",
      "1084/1084 [==============================] - 20s 18ms/step - loss: 0.0071 - acc: 0.0188 - val_loss: 0.0071 - val_acc: 0.0146\n",
      "Epoch 39/100\n",
      "1084/1084 [==============================] - ETA: 0s - loss: 0.0071 - acc: 0.0203\n",
      "Epoch 00039: val_loss did not improve from 0.00704\n",
      "1084/1084 [==============================] - 20s 18ms/step - loss: 0.0071 - acc: 0.0203 - val_loss: 0.0071 - val_acc: 0.0210\n",
      "Epoch 40/100\n",
      "1084/1084 [==============================] - ETA: 0s - loss: 0.0071 - acc: 0.0210\n",
      "Epoch 00040: val_loss did not improve from 0.00704\n",
      "1084/1084 [==============================] - 20s 18ms/step - loss: 0.0071 - acc: 0.0210 - val_loss: 0.0070 - val_acc: 0.0147\n",
      "Epoch 41/100\n",
      "1084/1084 [==============================] - ETA: 0s - loss: 0.0071 - acc: 0.0190\n",
      "Epoch 00041: val_loss did not improve from 0.00704\n",
      "1084/1084 [==============================] - 20s 19ms/step - loss: 0.0071 - acc: 0.0190 - val_loss: 0.0071 - val_acc: 0.0212\n",
      "Epoch 42/100\n",
      "1081/1084 [============================>.] - ETA: 0s - loss: 0.0071 - acc: 0.0194\n",
      "Epoch 00042: val_loss did not improve from 0.00704\n",
      "1084/1084 [==============================] - 20s 18ms/step - loss: 0.0071 - acc: 0.0194 - val_loss: 0.0070 - val_acc: 0.0142\n",
      "Epoch 43/100\n",
      "1084/1084 [==============================] - ETA: 0s - loss: 0.0071 - acc: 0.0198\n",
      "Epoch 00043: val_loss did not improve from 0.00704\n",
      "1084/1084 [==============================] - 20s 18ms/step - loss: 0.0071 - acc: 0.0198 - val_loss: 0.0071 - val_acc: 0.0214\n",
      "Epoch 44/100\n",
      "1083/1084 [============================>.] - ETA: 0s - loss: 0.0071 - acc: 0.0199\n",
      "Epoch 00044: val_loss did not improve from 0.00704\n",
      "1084/1084 [==============================] - 19s 18ms/step - loss: 0.0071 - acc: 0.0199 - val_loss: 0.0070 - val_acc: 0.0210\n",
      "Epoch 45/100\n",
      "1083/1084 [============================>.] - ETA: 0s - loss: 0.0071 - acc: 0.0201\n",
      "Epoch 00045: val_loss did not improve from 0.00704\n",
      "1084/1084 [==============================] - 24s 22ms/step - loss: 0.0071 - acc: 0.0201 - val_loss: 0.0070 - val_acc: 0.0208\n",
      "Epoch 46/100\n",
      "1083/1084 [============================>.] - ETA: 0s - loss: 0.0071 - acc: 0.0186\n",
      "Epoch 00046: val_loss did not improve from 0.00704\n",
      "1084/1084 [==============================] - 29s 27ms/step - loss: 0.0071 - acc: 0.0186 - val_loss: 0.0071 - val_acc: 0.0206\n",
      "Epoch 47/100\n",
      "1083/1084 [============================>.] - ETA: 0s - loss: 0.0071 - acc: 0.0200\n",
      "Epoch 00047: val_loss did not improve from 0.00704\n",
      "1084/1084 [==============================] - 30s 28ms/step - loss: 0.0071 - acc: 0.0200 - val_loss: 0.0070 - val_acc: 0.0144\n",
      "Epoch 48/100\n",
      "1083/1084 [============================>.] - ETA: 0s - loss: 0.0071 - acc: 0.0195\n",
      "Epoch 00048: val_loss did not improve from 0.00704\n",
      "1084/1084 [==============================] - 30s 27ms/step - loss: 0.0071 - acc: 0.0196 - val_loss: 0.0070 - val_acc: 0.0218\n"
     ]
    }
   ],
   "source": [
    "checkpoint = ModelCheckpoint(\"color2words_params.h5\", monitor = \"val_loss\", verbose = 1, save_best_only = True)\n",
    "early_stop = EarlyStopping(patience=20)\n",
    "\n",
    "hist_color2words = model_color2words.fit(rgbs, pre_trained, epochs = 100, validation_split = 0.1, callbacks = [checkpoint, early_stop])\n",
    "model_color2words.load_weights(\"color2words_params.h5\")\n"
   ]
  },
  {
   "cell_type": "markdown",
   "metadata": {},
   "source": [
    "The model seems very poor in terms of validation accuracy, but we can see that postproccesing the outputs we can obtain some good and interesting predictions."
   ]
  },
  {
   "cell_type": "code",
   "execution_count": 207,
   "metadata": {},
   "outputs": [
    {
     "data": {
      "image/png": "[encoded data removed]",
      "text/plain": [
       "<Figure size 432x288 with 1 Axes>"
      ]
     },
     "metadata": {
      "needs_background": "light"
     },
     "output_type": "display_data"
    },
    {
     "data": {
      "image/png": "[encoded data removed]",
      "text/plain": [
       "<Figure size 432x288 with 1 Axes>"
      ]
     },
     "metadata": {
      "needs_background": "light"
     },
     "output_type": "display_data"
    }
   ],
   "source": [
    "model_color2words = load_model('model_color2words.h5')\n",
    "hist_color2words = open('hist_color2words.json').read()\n",
    "hist_color2words = eval(hist_color2words)\n",
    "hist_plot(hist_color2words)"
   ]
  },
  {
   "cell_type": "markdown",
   "metadata": {},
   "source": [
    "The way I generate words is the following:\n",
    "\n",
    "- For each output $w_i \\in R^{300}$, $i = (1, \\;... \\;,6)$, I evaluate the most similar vectors in my embedded pretrained corpus. So, for each of the $3*10^6$ vectors in word2vec I evaluate $cos(\\widehat{w_i,v}) = \\frac{w_i v^T}{||v||_2 ||w_i||_2}$\n",
    "- I sorted all the obtained cosines, taking the first 10 (it can be change with the parameter neighbors).\n",
    "- I evaluate the probability $p_i$ of every word with a Softmax: the output words can be choosen in different ways. Here I just took the most possible."
   ]
  },
  {
   "cell_type": "code",
   "execution_count": 230,
   "metadata": {},
   "outputs": [],
   "source": [
    "def magnitude():\n",
    "    mags = []\n",
    "    for i in range(word2vec.vectors.shape[0]):\n",
    "        mags.append(np.sqrt(np.dot(word2vec.vectors[i], word2vec.vectors[i])))\n",
    "    return np.array(mags)\n",
    "\n",
    "def rgb_tensor(r, g, b, n_words, max_tokens):\n",
    "    tensor = np.zeros(shape=(1,max_tokens,3))\n",
    "    tensor[0][0] = np.array([r,g,b])\n",
    "    tensor[0][n_words:] = np.array([-1,-1,-1]) \n",
    "    return tensor\n",
    "    \n",
    "def names_generator(tensor, mags, max_tokens, neighbors=10):    \n",
    "    #model prediction\n",
    "    word_vecs = model_color2words.predict(tensor)[0]\n",
    "    color_name = []\n",
    "    #number words in the color name\n",
    "    for word in range(max_tokens):\n",
    "        #single word in color name\n",
    "        word_vec = word_vecs[word]\n",
    "        #module of the word\n",
    "        word_mag = np.sqrt(np.dot(word_vec, word_vec))\n",
    "        #projection of each word of the dict with the word of color name\n",
    "        dotted = np.dot(word_vec, word2vec.vectors.T)\n",
    "        #cosine of each word\n",
    "        cosine = dotted / (word_mag * mags)\n",
    "        keeps = []\n",
    "        #cosine sorted by magnitude\n",
    "        for idx in cosine.argsort()[-neighbors:][::-1]:\n",
    "            #print(word2vec.index2word[idx])\n",
    "            keeps.append(idx)\n",
    "        #Soft Max to choose a word\n",
    "        exp = np.exp(cosine[keeps])\n",
    "        probs = exp / exp.sum()\n",
    "        idx = keeps[np.argmax(probs)]\n",
    "        color_word = word2vec.index2word[idx]\n",
    "        color_name.append(color_word)\n",
    "    plot_rgb([int(x) for x in tens[0][0]])    \n",
    "    return color_name[-1]"
   ]
  },
  {
   "cell_type": "markdown",
   "metadata": {},
   "source": [
    "As we can see it works with many colors:"
   ]
  },
  {
   "cell_type": "code",
   "execution_count": 145,
   "metadata": {},
   "outputs": [
    {
     "data": {
      "image/png": "[encoded data removed]",
      "text/plain": [
       "<Figure size 144x144 with 1 Axes>"
      ]
     },
     "metadata": {
      "needs_background": "light"
     },
     "output_type": "display_data"
    },
    {
     "data": {
      "text/plain": [
       "'blue'"
      ]
     },
     "execution_count": 145,
     "metadata": {},
     "output_type": "execute_result"
    }
   ],
   "source": [
    "mags = magnitude()\n",
    "tens = rgb_tensor(0, 0, 255, 2, 4)\n",
    "names_generator(tens, mags, 4, neighbors=10)"
   ]
  },
  {
   "cell_type": "code",
   "execution_count": 146,
   "metadata": {},
   "outputs": [
    {
     "data": {
      "image/png": "[encoded data removed]",
      "text/plain": [
       "<Figure size 144x144 with 1 Axes>"
      ]
     },
     "metadata": {
      "needs_background": "light"
     },
     "output_type": "display_data"
    },
    {
     "data": {
      "text/plain": [
       "'green'"
      ]
     },
     "execution_count": 146,
     "metadata": {},
     "output_type": "execute_result"
    }
   ],
   "source": [
    "tens = rgb_tensor(0, 255, 0, 2, 4)\n",
    "names_generator(tens, mags, 4, neighbors=10)"
   ]
  },
  {
   "cell_type": "code",
   "execution_count": 147,
   "metadata": {},
   "outputs": [
    {
     "data": {
      "image/png": "[encoded data removed]",
      "text/plain": [
       "<Figure size 144x144 with 1 Axes>"
      ]
     },
     "metadata": {
      "needs_background": "light"
     },
     "output_type": "display_data"
    },
    {
     "data": {
      "text/plain": [
       "'red'"
      ]
     },
     "execution_count": 147,
     "metadata": {},
     "output_type": "execute_result"
    }
   ],
   "source": [
    "tens = rgb_tensor(255, 0, 0, 2, 4)\n",
    "names_generator(tens, mags, 4, neighbors=10)"
   ]
  },
  {
   "cell_type": "code",
   "execution_count": 178,
   "metadata": {},
   "outputs": [
    {
     "data": {
      "image/png": "[encoded data removed]",
      "text/plain": [
       "<Figure size 144x144 with 1 Axes>"
      ]
     },
     "metadata": {
      "needs_background": "light"
     },
     "output_type": "display_data"
    },
    {
     "data": {
      "text/plain": [
       "'yellow'"
      ]
     },
     "execution_count": 178,
     "metadata": {},
     "output_type": "execute_result"
    }
   ],
   "source": [
    "tens = rgb_tensor(255, 255, 0, 2, 4)\n",
    "names_generator(tens, mags, 4, neighbors=10)"
   ]
  },
  {
   "cell_type": "code",
   "execution_count": 148,
   "metadata": {},
   "outputs": [
    {
     "data": {
      "image/png": "[encoded data removed]",
      "text/plain": [
       "<Figure size 144x144 with 1 Axes>"
      ]
     },
     "metadata": {
      "needs_background": "light"
     },
     "output_type": "display_data"
    },
    {
     "data": {
      "text/plain": [
       "'purple'"
      ]
     },
     "execution_count": 148,
     "metadata": {},
     "output_type": "execute_result"
    }
   ],
   "source": [
    "tens = rgb_tensor(200, 10, 150, 2, 4)\n",
    "names_generator(tens, mags, 4, neighbors=10)"
   ]
  },
  {
   "cell_type": "markdown",
   "metadata": {},
   "source": [
    "Maybe just taking the first sorted word is too limiting. For example this shade of blue is still blue but relaxing a bit the algorithm, taking the first five for example, we will obtain wonderful names like: 'Fisherman_drowns' or 'dolphins_frolicking'. "
   ]
  },
  {
   "cell_type": "code",
   "execution_count": 149,
   "metadata": {},
   "outputs": [
    {
     "data": {
      "image/png": "[encoded data removed]",
      "text/plain": [
       "<Figure size 144x144 with 1 Axes>"
      ]
     },
     "metadata": {
      "needs_background": "light"
     },
     "output_type": "display_data"
    },
    {
     "data": {
      "text/plain": [
       "'blue'"
      ]
     },
     "execution_count": 149,
     "metadata": {},
     "output_type": "execute_result"
    }
   ],
   "source": [
    "tens = rgb_tensor(20, 130, 150, 2, 4)\n",
    "names_generator(tens, mags, 4, neighbors=10)"
   ]
  },
  {
   "cell_type": "code",
   "execution_count": 136,
   "metadata": {},
   "outputs": [],
   "source": [
    "def names_generator_relaxed(tensor, mags, max_tokens, number_colors, neighbors=10):    \n",
    "    #model prediction\n",
    "    word_vecs = model_color2words.predict(tensor)[0]\n",
    "    color_name = []\n",
    "    #number words in the color name\n",
    "    for word in range(max_tokens):\n",
    "        #single word in color name\n",
    "        word_vec = word_vecs[word]\n",
    "        #module of the word\n",
    "        word_mag = np.sqrt(np.dot(word_vec, word_vec))\n",
    "        #projection of each word of the dict with the word of color name\n",
    "        dotted = np.dot(word_vec, word2vec.vectors.T)\n",
    "        #cosine of each word\n",
    "        cosine = dotted / (word_mag * mags)\n",
    "        keeps = []\n",
    "        #cosine sorted by magnitude\n",
    "        for idx in cosine.argsort()[-neighbors:][::-1]:\n",
    "            #print(word2vec.index2word[idx])\n",
    "            keeps.append(idx)\n",
    "        color_list = []    \n",
    "        for idx in keeps[0:number_colors]:  \n",
    "            color_list.append(word2vec.index2word[idx])\n",
    "        color_name.append(color_list)\n",
    "    plot_rgb([int(x) for x in tens[0][0]])    \n",
    "    return color_name[-1]"
   ]
  },
  {
   "cell_type": "code",
   "execution_count": 139,
   "metadata": {},
   "outputs": [
    {
     "data": {
      "image/png": "[encoded data removed]",
      "text/plain": [
       "<Figure size 144x144 with 1 Axes>"
      ]
     },
     "metadata": {
      "needs_background": "light"
     },
     "output_type": "display_data"
    },
    {
     "data": {
      "text/plain": [
       "['blue',\n",
       " 'Fisherman_drowns',\n",
       " 'rafting_Riggins',\n",
       " 'dolphins_frolicking',\n",
       " 'gently_lapping']"
      ]
     },
     "execution_count": 139,
     "metadata": {},
     "output_type": "execute_result"
    }
   ],
   "source": [
    "tens = rgb_tensor(20, 130, 150, 2, 4)\n",
    "names_generator_relaxed(tens, mags, 4, 5, neighbors=10)"
   ]
  },
  {
   "cell_type": "code",
   "execution_count": 174,
   "metadata": {},
   "outputs": [
    {
     "data": {
      "image/png": "[encoded data removed]",
      "text/plain": [
       "<Figure size 144x144 with 1 Axes>"
      ]
     },
     "metadata": {
      "needs_background": "light"
     },
     "output_type": "display_data"
    },
    {
     "data": {
      "text/plain": [
       "['lavender_flowers',\n",
       " 'peachy_pink',\n",
       " 'mauve_pink',\n",
       " 'dusky_pink',\n",
       " 'purple_petunias']"
      ]
     },
     "execution_count": 174,
     "metadata": {},
     "output_type": "execute_result"
    }
   ],
   "source": [
    "tens = rgb_tensor(200, 130, 150, 2, 4)\n",
    "names_generator_relaxed(tens, mags, 4, 5, neighbors=10)"
   ]
  },
  {
   "cell_type": "markdown",
   "metadata": {},
   "source": [
    "And finally the tipical color of a mushy broccoli."
   ]
  },
  {
   "cell_type": "code",
   "execution_count": 182,
   "metadata": {},
   "outputs": [
    {
     "data": {
      "image/png": "[encoded data removed]",
      "text/plain": [
       "<Figure size 144x144 with 1 Axes>"
      ]
     },
     "metadata": {
      "needs_background": "light"
     },
     "output_type": "display_data"
    },
    {
     "data": {
      "text/plain": [
       "['gray', 'brown', 'mushy_broccoli', 'blue', 'orangey_brown']"
      ]
     },
     "execution_count": 182,
     "metadata": {},
     "output_type": "execute_result"
    }
   ],
   "source": [
    "tens = rgb_tensor(100, 100, 100, 2, 4)\n",
    "names_generator_relaxed(tens, mags, 4, 5, neighbors=10)"
   ]
  },
  {
   "cell_type": "markdown",
   "metadata": {},
   "source": [
    "To conclude we can see that the trigram model learnt something similar but more light."
   ]
  },
  {
   "cell_type": "code",
   "execution_count": 188,
   "metadata": {},
   "outputs": [
    {
     "name": "stdout",
     "output_type": "stream",
     "text": [
      "dolphins frolicking, R,G,B: 0.7614254 0.811651 0.70972705\n"
     ]
    },
    {
     "data": {
      "image/png": "[encoded data removed]",
      "text/plain": [
       "<Figure size 144x144 with 1 Axes>"
      ]
     },
     "metadata": {
      "needs_background": "light"
     },
     "output_type": "display_data"
    }
   ],
   "source": [
    "predict_n_emb(3, 'dolphins frolicking', 19644, 30, model_emb3_bidir_aug)"
   ]
  },
  {
   "cell_type": "code",
   "execution_count": 189,
   "metadata": {
    "scrolled": true
   },
   "outputs": [
    {
     "name": "stdout",
     "output_type": "stream",
     "text": [
      "mushy broccoli, R,G,B: 0.800483 0.68081623 0.52457374\n"
     ]
    },
    {
     "data": {
      "image/png": "[encoded data removed]",
      "text/plain": [
       "<Figure size 144x144 with 1 Axes>"
      ]
     },
     "metadata": {
      "needs_background": "light"
     },
     "output_type": "display_data"
    }
   ],
   "source": [
    "predict_n_emb(3, 'mushy broccoli', 19644, 30, model_emb3_bidir_aug)"
   ]
  },
  {
   "cell_type": "code",
   "execution_count": null,
   "metadata": {},
   "outputs": [],
   "source": []
  }
 ],
 "metadata": {
  "accelerator": "GPU",
  "colab": {
   "collapsed_sections": [],
   "name": "Ass3-colors.ipynb",
   "provenance": []
  },
  "kernelspec": {
   "display_name": "Python 3",
   "language": "python",
   "name": "python3"
  },
  "language_info": {
   "codemirror_mode": {
    "name": "ipython",
    "version": 3
   },
   "file_extension": ".py",
   "mimetype": "text/x-python",
   "name": "python",
   "nbconvert_exporter": "python",
   "pygments_lexer": "ipython3",
   "version": "3.7.6"
  }
 },
 "nbformat": 4,
 "nbformat_minor": 1
}
